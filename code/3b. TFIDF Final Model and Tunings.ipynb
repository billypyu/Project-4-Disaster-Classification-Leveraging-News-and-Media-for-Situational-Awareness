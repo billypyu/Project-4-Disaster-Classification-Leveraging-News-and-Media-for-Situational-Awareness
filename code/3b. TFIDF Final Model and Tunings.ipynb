{
 "cells": [
  {
   "cell_type": "markdown",
   "metadata": {},
   "source": [
    "# Term Frequency–Inverse Document Frequency (TFIDF)"
   ]
  },
  {
   "cell_type": "markdown",
   "metadata": {},
   "source": [
    "All libraries"
   ]
  },
  {
   "cell_type": "code",
   "execution_count": 1,
   "metadata": {},
   "outputs": [],
   "source": [
    "import pandas as pd\n",
    "import numpy as np\n",
    "import regex as re\n",
    "from nltk.tokenize import RegexpTokenizer\n",
    "from nltk.stem import WordNetLemmatizer\n",
    "from nltk.corpus import stopwords\n",
    "from afinn import Afinn\n",
    "\n",
    "from sklearn.feature_extraction.text import TfidfTransformer, CountVectorizer, TfidfVectorizer\n",
    "from sklearn.model_selection import train_test_split, GridSearchCV\n",
    "from sklearn import metrics\n",
    "\n",
    "from sklearn.linear_model import LogisticRegression\n",
    "from sklearn.naive_bayes import MultinomialNB, GaussianNB\n",
    "from sklearn.neighbors import KNeighborsClassifier\n",
    "from sklearn.tree import DecisionTreeClassifier, export_graphviz\n",
    "from sklearn.ensemble import ExtraTreesClassifier, RandomForestClassifier, BaggingClassifier, GradientBoostingClassifier, AdaBoostClassifier\n",
    "from sklearn import svm\n",
    "\n",
    "from sklearn.linear_model import Lasso, LassoCV\n",
    "\n",
    "\n",
    "from sklearn.pipeline import Pipeline\n",
    "\n",
    "import time\n",
    "import warnings\n",
    "warnings.filterwarnings('ignore')\n",
    "\n",
    "\n",
    "import matplotlib.pyplot as plt\n",
    "%matplotlib inline"
   ]
  },
  {
   "cell_type": "markdown",
   "metadata": {
    "toc": true
   },
   "source": [
    "<h1>Table of Contents<span class=\"tocSkip\"></span></h1>\n",
    "<div class=\"toc\"><ul class=\"toc-item\"><li><span><a href=\"#Term-Frequency–Inverse-Document-Frequency-(TFIDF)\" data-toc-modified-id=\"Term-Frequency–Inverse-Document-Frequency-(TFIDF)-1\"><span class=\"toc-item-num\">1&nbsp;&nbsp;</span>Term Frequency–Inverse Document Frequency (TFIDF)</a></span></li><li><span><a href=\"#LogisticRegression:-Feature-Importance\" data-toc-modified-id=\"LogisticRegression:-Feature-Importance-2\"><span class=\"toc-item-num\">2&nbsp;&nbsp;</span>LogisticRegression: Feature Importance</a></span></li><li><span><a href=\"#MultinomialNB:-Feature-Importance\" data-toc-modified-id=\"MultinomialNB:-Feature-Importance-3\"><span class=\"toc-item-num\">3&nbsp;&nbsp;</span>MultinomialNB: Feature Importance</a></span></li></ul></div>"
   ]
  },
  {
   "cell_type": "markdown",
   "metadata": {},
   "source": [
    "In this workbook, we examine three models: Logistic Regression, and (Multinomial) Naive Bayes. We particularly included the customized stop words containing name of the location and city, in order to being unweighted the location by occurrence and frequency in the model. We decided to adapt NB for for model because of the interpretability and overall performance, and then applied customized stop words for the final models. "
   ]
  },
  {
   "cell_type": "code",
   "execution_count": 2,
   "metadata": {},
   "outputs": [],
   "source": [
    "df = pd.read_csv('../data/balanced_df_tokenized_lemmatized.csv')\n",
    "df['content'].fillna('', inplace=True)"
   ]
  },
  {
   "cell_type": "code",
   "execution_count": 3,
   "metadata": {},
   "outputs": [],
   "source": [
    "X = df['content']\n",
    "y = df['yes_disaster']"
   ]
  },
  {
   "cell_type": "code",
   "execution_count": 4,
   "metadata": {},
   "outputs": [],
   "source": [
    "X_train, X_test, y_train, y_test = train_test_split(X, \n",
    "                                                    y,\n",
    "                                                    random_state=42,\n",
    "                                                    stratify=y)"
   ]
  },
  {
   "cell_type": "code",
   "execution_count": 5,
   "metadata": {},
   "outputs": [],
   "source": [
    "knn = KNeighborsClassifier()\n",
    "lr  = LogisticRegression(random_state=0, solver='lbfgs')\n",
    "nb  = MultinomialNB()"
   ]
  },
  {
   "cell_type": "code",
   "execution_count": 6,
   "metadata": {},
   "outputs": [],
   "source": [
    "from project4_function import model_scores"
   ]
  },
  {
   "cell_type": "markdown",
   "metadata": {},
   "source": [
    "**Using the custom_stop_words_final**"
   ]
  },
  {
   "cell_type": "code",
   "execution_count": 7,
   "metadata": {},
   "outputs": [
    {
     "data": {
      "text/plain": [
       "2490"
      ]
     },
     "execution_count": 7,
     "metadata": {},
     "output_type": "execute_result"
    }
   ],
   "source": [
    "# append the cuustomized words to the english stopwords\n",
    "import pickle\n",
    "custom_stop_words_final = pickle.load( open( \"save.p\", \"rb\" ) )\n",
    "len(custom_stop_words_final)"
   ]
  },
  {
   "cell_type": "code",
   "execution_count": 8,
   "metadata": {},
   "outputs": [],
   "source": [
    "words_not_use = stopwords.words('english')\n",
    "words_not_use.extend(custom_stop_words_final)"
   ]
  },
  {
   "cell_type": "code",
   "execution_count": 9,
   "metadata": {},
   "outputs": [
    {
     "data": {
      "text/plain": [
       "2669"
      ]
     },
     "execution_count": 9,
     "metadata": {},
     "output_type": "execute_result"
    }
   ],
   "source": [
    "len(words_not_use) "
   ]
  },
  {
   "cell_type": "code",
   "execution_count": 10,
   "metadata": {},
   "outputs": [],
   "source": [
    "tvec = TfidfVectorizer(analyzer = \"word\",\n",
    "                             tokenizer = None,\n",
    "                             preprocessor = None,\n",
    "                             stop_words = words_not_use) \n",
    "\n",
    "X_train_tvec_sw = tvec.fit_transform(X_train)\n",
    "X_test_tvec_sw = tvec.transform(X_test)"
   ]
  },
  {
   "cell_type": "code",
   "execution_count": 11,
   "metadata": {
    "scrolled": false
   },
   "outputs": [
    {
     "data": {
      "text/html": [
       "<div>\n",
       "<style scoped>\n",
       "    .dataframe tbody tr th:only-of-type {\n",
       "        vertical-align: middle;\n",
       "    }\n",
       "\n",
       "    .dataframe tbody tr th {\n",
       "        vertical-align: top;\n",
       "    }\n",
       "\n",
       "    .dataframe thead th {\n",
       "        text-align: right;\n",
       "    }\n",
       "</style>\n",
       "<table border=\"1\" class=\"dataframe\">\n",
       "  <thead>\n",
       "    <tr style=\"text-align: right;\">\n",
       "      <th></th>\n",
       "      <th>model</th>\n",
       "      <th>accuracy score</th>\n",
       "      <th>recall score</th>\n",
       "      <th>cv train score</th>\n",
       "      <th>cv test score</th>\n",
       "      <th>train score</th>\n",
       "      <th>test score</th>\n",
       "      <th>train-test gap</th>\n",
       "      <th>model status</th>\n",
       "      <th>bias vs variance</th>\n",
       "      <th>fit time</th>\n",
       "    </tr>\n",
       "  </thead>\n",
       "  <tbody>\n",
       "    <tr>\n",
       "      <th>0</th>\n",
       "      <td>KNeighborsClassifier(algorithm='auto', leaf_si...</td>\n",
       "      <td>0.753963</td>\n",
       "      <td>0.690922</td>\n",
       "      <td>0.770596</td>\n",
       "      <td>0.746768</td>\n",
       "      <td>0.842181</td>\n",
       "      <td>0.753963</td>\n",
       "      <td>0.088219</td>\n",
       "      <td>overfit</td>\n",
       "      <td>high variance</td>\n",
       "      <td>9.536743e-07</td>\n",
       "    </tr>\n",
       "    <tr>\n",
       "      <th>0</th>\n",
       "      <td>LogisticRegression(C=1.0, class_weight=None, d...</td>\n",
       "      <td>0.795029</td>\n",
       "      <td>0.743516</td>\n",
       "      <td>0.793056</td>\n",
       "      <td>0.789287</td>\n",
       "      <td>0.852991</td>\n",
       "      <td>0.795029</td>\n",
       "      <td>0.057962</td>\n",
       "      <td>overfit</td>\n",
       "      <td>high variance</td>\n",
       "      <td>9.536743e-07</td>\n",
       "    </tr>\n",
       "    <tr>\n",
       "      <th>0</th>\n",
       "      <td>MultinomialNB(alpha=1.0, class_prior=None, fit...</td>\n",
       "      <td>0.785663</td>\n",
       "      <td>0.775937</td>\n",
       "      <td>0.786933</td>\n",
       "      <td>0.776668</td>\n",
       "      <td>0.822844</td>\n",
       "      <td>0.785663</td>\n",
       "      <td>0.037181</td>\n",
       "      <td>overfit</td>\n",
       "      <td>high variance</td>\n",
       "      <td>0.000000e+00</td>\n",
       "    </tr>\n",
       "  </tbody>\n",
       "</table>\n",
       "</div>"
      ],
      "text/plain": [
       "                                               model  accuracy score  \\\n",
       "0  KNeighborsClassifier(algorithm='auto', leaf_si...        0.753963   \n",
       "0  LogisticRegression(C=1.0, class_weight=None, d...        0.795029   \n",
       "0  MultinomialNB(alpha=1.0, class_prior=None, fit...        0.785663   \n",
       "\n",
       "   recall score  cv train score  cv test score  train score  test score  \\\n",
       "0      0.690922        0.770596       0.746768     0.842181    0.753963   \n",
       "0      0.743516        0.793056       0.789287     0.852991    0.795029   \n",
       "0      0.775937        0.786933       0.776668     0.822844    0.785663   \n",
       "\n",
       "   train-test gap model status bias vs variance      fit time  \n",
       "0        0.088219      overfit    high variance  9.536743e-07  \n",
       "0        0.057962      overfit    high variance  9.536743e-07  \n",
       "0        0.037181      overfit    high variance  0.000000e+00  "
      ]
     },
     "execution_count": 11,
     "metadata": {},
     "output_type": "execute_result"
    }
   ],
   "source": [
    "models = [knn, lr, nb]\n",
    "\n",
    "score_matrix = pd.DataFrame() \n",
    "\n",
    "for i in models:\n",
    "    score_matrix = score_matrix.append(model_scores(i, X_train_tvec_sw, y_train, X_test_tvec_sw , y_test))\n",
    "score_matrix"
   ]
  },
  {
   "cell_type": "markdown",
   "metadata": {},
   "source": [
    "# LogisticRegression: Feature Importance"
   ]
  },
  {
   "cell_type": "markdown",
   "metadata": {},
   "source": [
    "1. For a binary classification problems this is basically the log of the estimated probability of a feature given the positive class. It means that higher values mean more important features towards your output variable.\n",
    "2. The top features words such as hurricane, lava, storm, landslide in logistic regression will contribute most to the prediction variables. Having relevant features word can increase the accuracy of the models and reducing overfitting. "
   ]
  },
  {
   "cell_type": "code",
   "execution_count": 12,
   "metadata": {},
   "outputs": [
    {
     "name": "stdout",
     "output_type": "stream",
     "text": [
      "0.7937785251020898\n"
     ]
    }
   ],
   "source": [
    "lr = LogisticRegression()\n",
    "\n",
    "my_params = {\n",
    "    'penalty': ['l1', 'l2'],\n",
    "    'C': [0.5, 1.0, 25],\n",
    "}\n",
    "gs = GridSearchCV(lr, param_grid=my_params, cv=5)\n",
    "gs = gs.fit(X_train_tvec_sw, y_train)\n",
    "print(gs.best_score_)"
   ]
  },
  {
   "cell_type": "code",
   "execution_count": 13,
   "metadata": {},
   "outputs": [],
   "source": [
    "coef = gs.best_estimator_.coef_[0]"
   ]
  },
  {
   "cell_type": "code",
   "execution_count": 14,
   "metadata": {},
   "outputs": [],
   "source": [
    "features_strength_df_sw = pd.DataFrame([tvec.get_feature_names(), coef ], \n",
    "                             index=['features','coefficient']).T.sort_values(by='coefficient',ascending=False)\n",
    "features_strength_df_sw =features_strength_df_sw.dropna()"
   ]
  },
  {
   "cell_type": "code",
   "execution_count": 15,
   "metadata": {
    "scrolled": false
   },
   "outputs": [
    {
     "data": {
      "image/png": "[encoded data removed]",
      "text/plain": [
       "<Figure size 720x648 with 1 Axes>"
      ]
     },
     "metadata": {
      "needs_background": "light"
     },
     "output_type": "display_data"
    }
   ],
   "source": [
    "plt.figure(figsize=(10,9))\n",
    "plt.title ('LogisticRegression: feature importance with stop words', fontsize=18)\n",
    "plt.xlabel('features importances score (coefficients)', fontsize=18)\n",
    "plt.ylabel('features', fontsize=18)\n",
    "plt.axvline(x=0, color='r', linestyle='--')\n",
    "\n",
    "plt.barh (y= features_strength_df_sw['features'][:20], width= features_strength_df_sw['coefficient'][:20])\n",
    "plt.gca().invert_yaxis()\n",
    "plt.tight_layout()"
   ]
  },
  {
   "cell_type": "code",
   "execution_count": 16,
   "metadata": {},
   "outputs": [
    {
     "data": {
      "text/plain": [
       "False"
      ]
     },
     "execution_count": 16,
     "metadata": {},
     "output_type": "execute_result"
    }
   ],
   "source": [
    "#Check if a certain location in the list; we should not have location show up in the feature list\n",
    "'delhi' in list(features_strength_df_sw['features'])"
   ]
  },
  {
   "cell_type": "markdown",
   "metadata": {},
   "source": [
    "# MultinomialNB: Feature Importance"
   ]
  },
  {
   "cell_type": "markdown",
   "metadata": {},
   "source": [
    "1. Naive Bayes classifiers have worked quite well in many real-world situations for document classification. It requires a small amount of training data to estimate the necessary parameters.\n",
    "2. While compare to the logistic regression, feature words in MultinomialNB will have a negative class, and we will sort the words by descending order. "
   ]
  },
  {
   "cell_type": "code",
   "execution_count": 17,
   "metadata": {},
   "outputs": [],
   "source": [
    "tvec_nb = TfidfVectorizer(analyzer = \"word\",\n",
    "                             tokenizer = None,\n",
    "                             preprocessor = None,\n",
    "                             stop_words = words_not_use) \n",
    "\n",
    "X_train_tvec_sw_nb = tvec_nb.fit_transform(X_train)\n",
    "X_test_tvec_sw_nb = tvec_nb.transform(X_test)"
   ]
  },
  {
   "cell_type": "code",
   "execution_count": 18,
   "metadata": {},
   "outputs": [],
   "source": [
    "nb = MultinomialNB()\n",
    "gs_nb = nb.fit(X_train_tvec_sw_nb, y_train)"
   ]
  },
  {
   "cell_type": "code",
   "execution_count": 19,
   "metadata": {},
   "outputs": [],
   "source": [
    "features_strength_df_sw_nb = pd.DataFrame([tvec_nb.get_feature_names(), gs_nb.coef_[0]], \n",
    "                             index=['features_nb','coefficient_nb']).T.sort_values(by='coefficient_nb',ascending=False)"
   ]
  },
  {
   "cell_type": "code",
   "execution_count": 22,
   "metadata": {
    "scrolled": true
   },
   "outputs": [
    {
     "data": {
      "image/png": "[encoded data removed]",
      "text/plain": [
       "<Figure size 720x648 with 1 Axes>"
      ]
     },
     "metadata": {
      "needs_background": "light"
     },
     "output_type": "display_data"
    }
   ],
   "source": [
    "plt.figure(figsize=(10,9))\n",
    "plt.title ('NB: feature importance with stop words', fontsize=18)\n",
    "plt.xlabel('features importances score (coefficients)', fontsize=18)\n",
    "plt.ylabel('features', fontsize=18)\n",
    "plt.axvline(x=0, color='r', linestyle='--')\n",
    "\n",
    "plt.barh (y= features_strength_df_sw_nb['features_nb'][:20], width= features_strength_df_sw_nb['coefficient_nb'][:20])\n",
    "plt.gca().invert_yaxis()\n",
    "plt.tight_layout()"
   ]
  },
  {
   "cell_type": "code",
   "execution_count": 24,
   "metadata": {},
   "outputs": [],
   "source": [
    "features_strength_df_sw_top = list(features_strength_df_sw.features.head(1000))\n",
    "\n",
    "features_strength_df_sw_nb_top = list(features_strength_df_sw_nb.features_nb.head(1000))\n",
    "\n",
    "top_words_overlap = [word for word in features_strength_df_sw_top if word in features_strength_df_sw_nb_top]"
   ]
  },
  {
   "cell_type": "code",
   "execution_count": 26,
   "metadata": {
    "scrolled": false
   },
   "outputs": [
    {
     "data": {
      "text/plain": [
       "0.466"
      ]
     },
     "execution_count": 26,
     "metadata": {},
     "output_type": "execute_result"
    }
   ],
   "source": [
    "len(top_words_overlap)/1000"
   ]
  },
  {
   "cell_type": "code",
   "execution_count": 28,
   "metadata": {},
   "outputs": [
    {
     "data": {
      "text/plain": [
       "['hurricane',\n",
       " 'lava',\n",
       " 'storm',\n",
       " 'landslide',\n",
       " 'home',\n",
       " 'volcano',\n",
       " 'wildfire',\n",
       " 'weather',\n",
       " 'acre',\n",
       " 'quake']"
      ]
     },
     "execution_count": 28,
     "metadata": {},
     "output_type": "execute_result"
    }
   ],
   "source": [
    "top_words_overlap[:10]"
   ]
  },
  {
   "cell_type": "code",
   "execution_count": null,
   "metadata": {},
   "outputs": [
    {
     "name": "stdout",
     "output_type": "stream",
     "text": [
      "WARNING: The conda.compat module is deprecated and will be removed in a future release.\n",
      "Collecting package metadata: done\n",
      "Solving environment: \\ "
     ]
    }
   ],
   "source": []
  },
  {
   "cell_type": "code",
   "execution_count": null,
   "metadata": {},
   "outputs": [],
   "source": []
  }
 ],
 "metadata": {
  "kernelspec": {
   "display_name": "Python 3",
   "language": "python",
   "name": "python3"
  },
  "language_info": {
   "codemirror_mode": {
    "name": "ipython",
    "version": 3
   },
   "file_extension": ".py",
   "mimetype": "text/x-python",
   "name": "python",
   "nbconvert_exporter": "python",
   "pygments_lexer": "ipython3",
   "version": "3.7.1"
  },
  "toc": {
   "base_numbering": 1,
   "nav_menu": {},
   "number_sections": true,
   "sideBar": true,
   "skip_h1_title": false,
   "title_cell": "Table of Contents",
   "title_sidebar": "Contents",
   "toc_cell": true,
   "toc_position": {
    "height": "calc(100% - 180px)",
    "left": "10px",
    "top": "150px",
    "width": "363.4583435058594px"
   },
   "toc_section_display": true,
   "toc_window_display": true
  },
  "varInspector": {
   "cols": {
    "lenName": 16,
    "lenType": 16,
    "lenVar": 40
   },
   "kernels_config": {
    "python": {
     "delete_cmd_postfix": "",
     "delete_cmd_prefix": "del ",
     "library": "var_list.py",
     "varRefreshCmd": "print(var_dic_list())"
    },
    "r": {
     "delete_cmd_postfix": ") ",
     "delete_cmd_prefix": "rm(",
     "library": "var_list.r",
     "varRefreshCmd": "cat(var_dic_list()) "
    }
   },
   "types_to_exclude": [
    "module",
    "function",
    "builtin_function_or_method",
    "instance",
    "_Feature"
   ],
   "window_display": false
  }
 },
 "nbformat": 4,
 "nbformat_minor": 2
}
