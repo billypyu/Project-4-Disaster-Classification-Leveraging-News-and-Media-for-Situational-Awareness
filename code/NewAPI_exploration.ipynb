{
 "cells": [
  {
   "cell_type": "markdown",
   "metadata": {},
   "source": [
    "### Mission: To webscrap news articles from a variety of sources\n",
    "\n",
    "- Use news API to identify interesting articles\n",
    "- Build scrapping code to scrape the articles from the source provided by the news API\n",
    "- Store the news articles in a permanent database\n",
    "- Process the text of the articles in preparation for NLP\n",
    "- Build interesting models around the text to understand sentiment\n",
    "\n",
    "API source: https://newsapi.org/docs/endpoints/everything"
   ]
  },
  {
   "cell_type": "code",
   "execution_count": 6,
   "metadata": {},
   "outputs": [],
   "source": [
    "import pandas as pd\n",
    "import time\n",
    "from datetime import date\n",
    "import requests"
   ]
  },
  {
   "cell_type": "code",
   "execution_count": 18,
   "metadata": {},
   "outputs": [],
   "source": [
    "def save_news (search_terms, n_pagesize, n_pages, save_to_csv): \n",
    "    '''\n",
    "    term_request = which is the key word for search.\n",
    "    save_to_csv = True indicates csv will be saved\n",
    "    '''\n",
    "    \n",
    "    # API requests\n",
    "    for term in search_terms: \n",
    "        url = 'https://newsapi.org/v2/everything?'\n",
    "        \n",
    "        param = {\n",
    "    #'country' : 'us',\n",
    "    'q': term,  #search term \n",
    "    'apiKey' : 'e685d6e1420f4882b86d029ed3c1a11d',\n",
    "    'pageSize': n_pagesize, #max page\n",
    "    'language': 'en'}\n",
    "        print (term)\n",
    "        \n",
    "        every_term = requests.get(url, params = param)\n",
    "        every_term.json()['articles']\n",
    "        #every_term.json().keys()\n",
    "        #print (every_term)\n",
    "\n",
    "    articles = every_term.json()['articles'] \n",
    "    \n",
    "    for page in range(2, n_pages): #go throught 10 times, and get more pages, 10 more pages\n",
    "        #print('page: ' + str(page))\n",
    "        param['page'] = page\n",
    "        \n",
    "        more_term = requests.get(url, params = param)\n",
    "        more_term = more_term.json()['articles']\n",
    "        \n",
    "        #print(len(more_term))\n",
    "        articles.extend(more_term)\n",
    "    arts = pd.DataFrame(articles)\n",
    "    \n",
    "    # Drop null and duplicate \n",
    "    arts.dropna(inplace=True)\n",
    "    arts.drop_duplicates(subset='content',inplace = True)\n",
    "    \n",
    "    # Create columns\n",
    "    arts['source_id'] = arts['source'].map(lambda x: x['id'])\n",
    "    arts['source_name'] = arts['source'].map(lambda x: x['name']) #break up the source, source id, and name colums seperate\n",
    "    \n",
    "    # Save df to csv\n",
    "    if save_to_csv == True: \n",
    "        arts.to_csv('../data/'+ str(date.today())+'.csv' ,index = False, sep = \",\") #index = False for no extra columns\n",
    "        print (f'{len(articles)} unique news haved been saved')\n",
    "    \n",
    "    # Review df \n",
    "    return arts.head()"
   ]
  },
  {
   "cell_type": "code",
   "execution_count": 22,
   "metadata": {},
   "outputs": [],
   "source": [
    "# news = ['disaster', 'crisis']\n",
    "# for new in ['disaster', 'crisis']: \n",
    "#     save_news (new, n_pagesize=10, n_pages=3, save_to_csv=True)"
   ]
  },
  {
   "cell_type": "code",
   "execution_count": 21,
   "metadata": {
    "scrolled": false
   },
   "outputs": [
    {
     "name": "stdout",
     "output_type": "stream",
     "text": [
      "earthquake\n",
      "20 unique news haved been saved\n"
     ]
    },
    {
     "data": {
      "text/html": [
       "<div>\n",
       "<style scoped>\n",
       "    .dataframe tbody tr th:only-of-type {\n",
       "        vertical-align: middle;\n",
       "    }\n",
       "\n",
       "    .dataframe tbody tr th {\n",
       "        vertical-align: top;\n",
       "    }\n",
       "\n",
       "    .dataframe thead th {\n",
       "        text-align: right;\n",
       "    }\n",
       "</style>\n",
       "<table border=\"1\" class=\"dataframe\">\n",
       "  <thead>\n",
       "    <tr style=\"text-align: right;\">\n",
       "      <th></th>\n",
       "      <th>author</th>\n",
       "      <th>content</th>\n",
       "      <th>description</th>\n",
       "      <th>publishedAt</th>\n",
       "      <th>source</th>\n",
       "      <th>title</th>\n",
       "      <th>url</th>\n",
       "      <th>urlToImage</th>\n",
       "      <th>source_id</th>\n",
       "      <th>source_name</th>\n",
       "    </tr>\n",
       "  </thead>\n",
       "  <tbody>\n",
       "    <tr>\n",
       "      <th>0</th>\n",
       "      <td>Patrick Allan</td>\n",
       "      <td>Earthquakes are violent, frightening, and can ...</td>\n",
       "      <td>Earthquakes are violent, frightening, and can ...</td>\n",
       "      <td>2018-05-22T20:30:00Z</td>\n",
       "      <td>{'id': None, 'name': 'Lifehacker.com'}</td>\n",
       "      <td>Here's Everything You Need to Know to Survive ...</td>\n",
       "      <td>https://lifehacker.com/heres-everything-you-ne...</td>\n",
       "      <td>https://i.kinja-img.com/gawker-media/image/upl...</td>\n",
       "      <td>None</td>\n",
       "      <td>Lifehacker.com</td>\n",
       "    </tr>\n",
       "    <tr>\n",
       "      <th>1</th>\n",
       "      <td>Caitlin Harrington</td>\n",
       "      <td>Rich Lee had armor implanted in his shins in 2...</td>\n",
       "      <td>Surgically installed vibrator or earthquake-se...</td>\n",
       "      <td>2018-02-07T14:00:00Z</td>\n",
       "      <td>{'id': 'wired', 'name': 'Wired'}</td>\n",
       "      <td>Biopunks are Pushing the Limits With Implants ...</td>\n",
       "      <td>https://www.wired.com/story/biopunks-are-pushi...</td>\n",
       "      <td>https://media.wired.com/photos/5a7118c5c963725...</td>\n",
       "      <td>wired</td>\n",
       "      <td>Wired</td>\n",
       "    </tr>\n",
       "    <tr>\n",
       "      <th>2</th>\n",
       "      <td>Aimée Lutkin</td>\n",
       "      <td>On Friday, the Indonesian island of Sulawesi w...</td>\n",
       "      <td>On Friday, the Indonesian island of Sulawesi w...</td>\n",
       "      <td>2018-10-03T18:00:00Z</td>\n",
       "      <td>{'id': None, 'name': 'Lifehacker.com'}</td>\n",
       "      <td>How to Help Victims of the Indonesia Earthquak...</td>\n",
       "      <td>https://lifehacker.com/how-to-help-victims-of-...</td>\n",
       "      <td>https://i.kinja-img.com/gawker-media/image/upl...</td>\n",
       "      <td>None</td>\n",
       "      <td>Lifehacker.com</td>\n",
       "    </tr>\n",
       "    <tr>\n",
       "      <th>3</th>\n",
       "      <td>Aimée Lutkin</td>\n",
       "      <td>California began using an earthquake warning s...</td>\n",
       "      <td>California began using an earthquake warning s...</td>\n",
       "      <td>2018-10-11T17:30:00Z</td>\n",
       "      <td>{'id': None, 'name': 'Lifehacker.com'}</td>\n",
       "      <td>What to Do When an Earthquake Warning Goes Off</td>\n",
       "      <td>https://lifehacker.com/what-to-do-when-an-eart...</td>\n",
       "      <td>https://i.kinja-img.com/gawker-media/image/upl...</td>\n",
       "      <td>None</td>\n",
       "      <td>Lifehacker.com</td>\n",
       "    </tr>\n",
       "    <tr>\n",
       "      <th>4</th>\n",
       "      <td>Alessandra Potenza</td>\n",
       "      <td>Last night, a magnitude 7.9 earthquake struck ...</td>\n",
       "      <td>Last night, a magnitude 7.9 earthquake struck ...</td>\n",
       "      <td>2018-01-23T16:15:13Z</td>\n",
       "      <td>{'id': 'the-verge', 'name': 'The Verge'}</td>\n",
       "      <td>A powerful earthquake in Alaska didn’t trigger...</td>\n",
       "      <td>https://www.theverge.com/2018/1/23/16922914/al...</td>\n",
       "      <td>https://cdn.vox-cdn.com/thumbor/rQqh3BMKCmEiuT...</td>\n",
       "      <td>the-verge</td>\n",
       "      <td>The Verge</td>\n",
       "    </tr>\n",
       "  </tbody>\n",
       "</table>\n",
       "</div>"
      ],
      "text/plain": [
       "               author                                            content  \\\n",
       "0       Patrick Allan  Earthquakes are violent, frightening, and can ...   \n",
       "1  Caitlin Harrington  Rich Lee had armor implanted in his shins in 2...   \n",
       "2        Aimée Lutkin  On Friday, the Indonesian island of Sulawesi w...   \n",
       "3        Aimée Lutkin  California began using an earthquake warning s...   \n",
       "4  Alessandra Potenza  Last night, a magnitude 7.9 earthquake struck ...   \n",
       "\n",
       "                                         description           publishedAt  \\\n",
       "0  Earthquakes are violent, frightening, and can ...  2018-05-22T20:30:00Z   \n",
       "1  Surgically installed vibrator or earthquake-se...  2018-02-07T14:00:00Z   \n",
       "2  On Friday, the Indonesian island of Sulawesi w...  2018-10-03T18:00:00Z   \n",
       "3  California began using an earthquake warning s...  2018-10-11T17:30:00Z   \n",
       "4  Last night, a magnitude 7.9 earthquake struck ...  2018-01-23T16:15:13Z   \n",
       "\n",
       "                                     source  \\\n",
       "0    {'id': None, 'name': 'Lifehacker.com'}   \n",
       "1          {'id': 'wired', 'name': 'Wired'}   \n",
       "2    {'id': None, 'name': 'Lifehacker.com'}   \n",
       "3    {'id': None, 'name': 'Lifehacker.com'}   \n",
       "4  {'id': 'the-verge', 'name': 'The Verge'}   \n",
       "\n",
       "                                               title  \\\n",
       "0  Here's Everything You Need to Know to Survive ...   \n",
       "1  Biopunks are Pushing the Limits With Implants ...   \n",
       "2  How to Help Victims of the Indonesia Earthquak...   \n",
       "3     What to Do When an Earthquake Warning Goes Off   \n",
       "4  A powerful earthquake in Alaska didn’t trigger...   \n",
       "\n",
       "                                                 url  \\\n",
       "0  https://lifehacker.com/heres-everything-you-ne...   \n",
       "1  https://www.wired.com/story/biopunks-are-pushi...   \n",
       "2  https://lifehacker.com/how-to-help-victims-of-...   \n",
       "3  https://lifehacker.com/what-to-do-when-an-eart...   \n",
       "4  https://www.theverge.com/2018/1/23/16922914/al...   \n",
       "\n",
       "                                          urlToImage  source_id  \\\n",
       "0  https://i.kinja-img.com/gawker-media/image/upl...       None   \n",
       "1  https://media.wired.com/photos/5a7118c5c963725...      wired   \n",
       "2  https://i.kinja-img.com/gawker-media/image/upl...       None   \n",
       "3  https://i.kinja-img.com/gawker-media/image/upl...       None   \n",
       "4  https://cdn.vox-cdn.com/thumbor/rQqh3BMKCmEiuT...  the-verge   \n",
       "\n",
       "      source_name  \n",
       "0  Lifehacker.com  \n",
       "1           Wired  \n",
       "2  Lifehacker.com  \n",
       "3  Lifehacker.com  \n",
       "4       The Verge  "
      ]
     },
     "execution_count": 21,
     "metadata": {},
     "output_type": "execute_result"
    }
   ],
   "source": [
    "save_news (['earthquake'], n_pagesize=10, n_pages=3, save_to_csv=True)"
   ]
  },
  {
   "cell_type": "code",
   "execution_count": null,
   "metadata": {},
   "outputs": [],
   "source": []
  },
  {
   "cell_type": "code",
   "execution_count": null,
   "metadata": {},
   "outputs": [],
   "source": []
  },
  {
   "cell_type": "code",
   "execution_count": null,
   "metadata": {},
   "outputs": [],
   "source": [
    "--"
   ]
  },
  {
   "cell_type": "markdown",
   "metadata": {},
   "source": [
    "#### Investigate the headlines endpoint"
   ]
  },
  {
   "cell_type": "code",
   "execution_count": 21,
   "metadata": {},
   "outputs": [],
   "source": [
    "url = 'https://newsapi.org/v2/top-headlines?'\n",
    "\n",
    "param = {\n",
    "    'country' : 'us',\n",
    "    'category': 'business', #top headline and everthing cater\n",
    "    'apiKey' : 'e685d6e1420f4882b86d029ed3c1a11d',\n",
    "    'pageSize': 100,\n",
    "}\n",
    "\n",
    "business_headlines = requests.get(url, params = param)\n",
    "business_headlines = business_headlines.json()\n",
    "business_headlines.keys()"
   ]
  },
  {
   "cell_type": "code",
   "execution_count": 1,
   "metadata": {},
   "outputs": [],
   "source": [
    "#business_headlines"
   ]
  },
  {
   "cell_type": "code",
   "execution_count": 2,
   "metadata": {},
   "outputs": [],
   "source": [
    "#business_headlines.json()"
   ]
  },
  {
   "cell_type": "code",
   "execution_count": 24,
   "metadata": {},
   "outputs": [
    {
     "data": {
      "text/plain": [
       "dict_keys(['status', 'totalResults', 'articles'])"
      ]
     },
     "execution_count": 24,
     "metadata": {},
     "output_type": "execute_result"
    }
   ],
   "source": []
  },
  {
   "cell_type": "code",
   "execution_count": 3,
   "metadata": {},
   "outputs": [],
   "source": [
    "#business_headlines['articles'] #where these articles come from "
   ]
  },
  {
   "cell_type": "markdown",
   "metadata": {},
   "source": [
    "#### Investigate the sources endpoint"
   ]
  },
  {
   "cell_type": "code",
   "execution_count": 26,
   "metadata": {},
   "outputs": [],
   "source": [
    "url = 'https://newsapi.org/v2/sources?'\n",
    "\n",
    "param = {\n",
    "    'country' : 'us',\n",
    "    'q': 'earthquake',\n",
    "    #'category': 'business',\n",
    "    'apiKey' : 'e685d6e1420f4882b86d029ed3c1a11d',\n",
    "    'pageSize': 100,\n",
    "}\n",
    "\n",
    "earthquake_sources = requests.get(url, params = param)"
   ]
  },
  {
   "cell_type": "code",
   "execution_count": 4,
   "metadata": {},
   "outputs": [],
   "source": [
    "#earthquake_sources.json()"
   ]
  },
  {
   "cell_type": "code",
   "execution_count": 28,
   "metadata": {},
   "outputs": [],
   "source": [
    "import time\n",
    "\n",
    "now = time.time()\n",
    "#str(now)\n",
    "\n",
    "\n",
    "# now = str(now) #Unknown format code 'f' for object of type 'str'\n",
    "\n",
    "#create the time stampe"
   ]
  },
  {
   "cell_type": "code",
   "execution_count": 29,
   "metadata": {},
   "outputs": [],
   "source": [
    "arts.to_csv(f'./earthquake_{now:.0f}.csv')"
   ]
  },
  {
   "cell_type": "markdown",
   "metadata": {},
   "source": [
    "### Schedule automated tasks with Cron\n",
    "\n",
    "Next let's setup a python script to automatically collect data everyday. We can do this with cron. \n",
    "\n",
    "Here are a couple great resources you might reference as we go through cron:   \n",
    "https://www.taniarascia.com/setting-up-a-basic-cron-job-in-linux/  \n",
    "https://ole.michelsen.dk/blog/schedule-jobs-with-crontab-on-mac-osx.html  \n",
    "\n",
    "#### What is cron? \n",
    "\n",
    "Cron is a scheduler that allows a user to automate certain functionality to run at specific times. The way timing is encoded in cron is a bit arcane. \n",
    "\n",
    "Let's check out this site and try to understand how it works: https://crontab.guru/#0_0_*_*_*\n",
    "\n",
    "Crontab have 5 * to indicate delineations in time. \n",
    "\n",
    "For example, \n",
    "\n",
    "\\* \\* \\* \\* \\*\n",
    "\n",
    "equates to every minute, every hour, every day, every month, and every day of the week  \n",
    "\n",
    "This can be a bit confusing. I suggest that when you want to setup a crontab for a specific time, you play around with the crontab.guru and try to get it to output the timing you want. Let's try to get a cron schedule for once a day at noon. \n",
    "\n"
   ]
  },
  {
   "cell_type": "markdown",
   "metadata": {},
   "source": [
    "each markdown has meaning . * is any. 1 is mintues, second is hour, 3rd is day of the month, 4 is month, 5 is the day of the week"
   ]
  }
 ],
 "metadata": {
  "kernelspec": {
   "display_name": "Python [conda env:dsi]",
   "language": "python",
   "name": "conda-env-dsi-py"
  },
  "language_info": {
   "codemirror_mode": {
    "name": "ipython",
    "version": 3
   },
   "file_extension": ".py",
   "mimetype": "text/x-python",
   "name": "python",
   "nbconvert_exporter": "python",
   "pygments_lexer": "ipython3",
   "version": "3.6.5"
  }
 },
 "nbformat": 4,
 "nbformat_minor": 2
}
