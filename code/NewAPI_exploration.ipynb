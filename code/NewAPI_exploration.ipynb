{
 "cells": [
  {
   "cell_type": "markdown",
   "metadata": {},
   "source": [
    "### Mission: To webscrap news articles from a variety of sources\n",
    "\n",
    "- Use news API to identify interesting articles\n",
    "- Build scrapping code to scrape the articles from the source provided by the news API\n",
    "- Store the news articles in a permanent database\n",
    "- Process the text of the articles in preparation for NLP\n",
    "- Build interesting models around the text to understand sentiment\n",
    "\n",
    "API source: https://newsapi.org/docs/endpoints/everything"
   ]
  },
  {
   "cell_type": "code",
<<<<<<< HEAD
   "execution_count": 1,
=======
<<<<<<< HEAD
   "execution_count": 4,
=======
   "execution_count": 140,
>>>>>>> 9c272d86819b0d7ff67fe00b3bde83217d2a70ba
>>>>>>> bf69ca2d065d15b3f09ab74b797464425f86daa8
   "metadata": {},
   "outputs": [],
   "source": [
    "import pandas as pd\n",
    "from datetime import date\n",
    "import requests\n",
    "import time\n",
    "now = time.time()"
   ]
  },
  {
   "cell_type": "code",
<<<<<<< HEAD
   "execution_count": 2,
=======
<<<<<<< HEAD
   "execution_count": 5,
=======
   "execution_count": 173,
>>>>>>> 9c272d86819b0d7ff67fe00b3bde83217d2a70ba
>>>>>>> bf69ca2d065d15b3f09ab74b797464425f86daa8
   "metadata": {},
   "outputs": [],
   "source": [
    "def save_news (search_terms,file_name, n_pagesize, start_page, end_pages, save_to_csv): \n",
    "    '''\n",
    "    term_request = which is the key word for search.\n",
    "    save_to_csv = True indicates csv will be saved\n",
    "    '''\n",
    "    \n",
    "    # API requests\n",
    "    for term in search_terms: \n",
    "        url = 'https://newsapi.org/v2/everything?'\n",
    "        \n",
    "        param = {\n",
    "    #'country' : 'us',\n",
    "    'q': term,  #search term \n",
    "    'apiKey' : 'e685d6e1420f4882b86d029ed3c1a11d',\n",
    "    'pageSize': n_pagesize, #max page\n",
    "    'language': 'en'}\n",
    "        print (term)\n",
    "        \n",
    "        every_term = requests.get(url, params = param)\n",
    "        #every_term.json()['articles']\n",
    "        #every_term.json().keys()\n",
    "        #print (every_term)\n",
    "\n",
    "    articles = every_term.json()['articles'] \n",
    "    \n",
    "    for page in range(start_page, end_pages): #go throught 10 times, and get more pages, 10 more pages\n",
    "        param['page'] = page\n",
    "        \n",
    "        more_term = requests.get(url, params = param)\n",
    "        more_term = more_term.json()['articles']\n",
    "        \n",
    "        #print(len(more_term))\n",
    "        articles.extend(more_term)\n",
    "    arts = pd.DataFrame(articles)\n",
    "    \n",
    "    # Drop null and duplicate \n",
    "    arts.dropna(inplace=True)\n",
    "    arts.drop_duplicates(subset='content',inplace = True)\n",
    "    \n",
    "    # Create columns\n",
    "    arts['source_id'] = arts['source'].map(lambda x: x['id'])\n",
    "    arts['source_name'] = arts['source'].map(lambda x: x['name']) #break up the source, source id, and name colums seperate\n",
    "    arts.drop (columns = ['source'], axis=1)\n",
    "    arts['yes_disaster'] = 1\n",
    "\n",
    "    # Save df to csv\n",
    "    if save_to_csv == True: \n",
    "        arts.to_csv('../data/'+str(file_name)+'_'+str(now) +'.csv' ,index = False, sep = \",\") #index = False for no extra columns\n",
    "        print (f'{len(articles)} unique news haved been saved')"
   ]
  },
  {
   "cell_type": "code",
<<<<<<< HEAD
   "execution_count": 6,
=======
<<<<<<< HEAD
   "execution_count": 6,
   "metadata": {},
   "outputs": [],
=======
   "execution_count": 174,
>>>>>>> bf69ca2d065d15b3f09ab74b797464425f86daa8
   "metadata": {
    "scrolled": true
   },
   "outputs": [
    {
     "name": "stdout",
     "output_type": "stream",
     "text": [
      "disaster\n",
      "990 unique news haved been saved\n"
     ]
    }
   ],
>>>>>>> 9c272d86819b0d7ff67fe00b3bde83217d2a70ba
   "source": [
    "#call the function \n",
    "save_news (['disaster'], file_name ='k', n_pagesize=10, start_page=2, end_pages=100, save_to_csv=True)"
   ]
  },
  {
   "cell_type": "code",
<<<<<<< HEAD
   "execution_count": 8,
   "metadata": {
    "scrolled": false
   },
=======
   "execution_count": 182,
   "metadata": {},
>>>>>>> 9c272d86819b0d7ff67fe00b3bde83217d2a70ba
   "outputs": [
    {
     "name": "stdout",
     "output_type": "stream",
     "text": [
<<<<<<< HEAD
      "earthquake\n",
      "Tornado\n",
      "20 unique news haved been saved\n"
=======
      "../data/b_1554939746.6693828.csv\n",
      "../data/b_1554940839.5361001.csv\n"
>>>>>>> 9c272d86819b0d7ff67fe00b3bde83217d2a70ba
     ]
    }
   ],
   "source": [
    "import glob\n",
    "path = \"../data/*.csv\"\n",
    "for fname in glob.glob(path):\n",
    "    print (fname)"
   ]
  },
  {
   "cell_type": "code",
   "execution_count": 176,
   "metadata": {},
   "outputs": [
    {
     "data": {
      "text/html": [
       "<div>\n",
       "<style scoped>\n",
       "    .dataframe tbody tr th:only-of-type {\n",
       "        vertical-align: middle;\n",
       "    }\n",
       "\n",
       "    .dataframe tbody tr th {\n",
       "        vertical-align: top;\n",
       "    }\n",
       "\n",
       "    .dataframe thead th {\n",
       "        text-align: right;\n",
       "    }\n",
       "</style>\n",
       "<table border=\"1\" class=\"dataframe\">\n",
       "  <thead>\n",
       "    <tr style=\"text-align: right;\">\n",
       "      <th></th>\n",
       "      <th>author</th>\n",
       "      <th>content</th>\n",
       "      <th>description</th>\n",
       "      <th>publishedAt</th>\n",
       "      <th>title</th>\n",
       "      <th>url</th>\n",
       "      <th>source_name</th>\n",
       "      <th>yes_disaster</th>\n",
       "    </tr>\n",
       "  </thead>\n",
       "  <tbody>\n",
       "    <tr>\n",
       "      <th>0</th>\n",
<<<<<<< HEAD
       "      <td>Patrick Allan</td>\n",
       "      <td>Every year, around 1,200 tornadoes hit the Uni...</td>\n",
       "      <td>Every year, around 1,200 tornadoes hit the Uni...</td>\n",
       "      <td>2018-05-07T21:00:00Z</td>\n",
       "      <td>{'id': None, 'name': 'Lifehacker.com'}</td>\n",
       "      <td>How to Stay Safe During a Tornado</td>\n",
       "      <td>https://lifehacker.com/how-to-stay-safe-during...</td>\n",
       "      <td>https://i.kinja-img.com/gawker-media/image/upl...</td>\n",
       "      <td>None</td>\n",
=======
       "      <td>Nick Douglas</td>\n",
       "      <td>If I was setting up curriculum at a university...</td>\n",
       "      <td>“If I was setting up curriculum at a universit...</td>\n",
       "      <td>2019-02-21T18:00:00Z</td>\n",
       "      <td>How Tiny Mistakes Cause Huge Disasters</td>\n",
       "      <td>https://lifehacker.com/how-tiny-mistakes-cause...</td>\n",
>>>>>>> 9c272d86819b0d7ff67fe00b3bde83217d2a70ba
       "      <td>Lifehacker.com</td>\n",
       "      <td>1</td>\n",
       "    </tr>\n",
       "    <tr>\n",
       "      <th>1</th>\n",
<<<<<<< HEAD
       "      <td>Patrick Allan</td>\n",
       "      <td>You see those green, billowing storm clouds ov...</td>\n",
       "      <td>You see those green, billowing storm clouds ov...</td>\n",
       "      <td>2018-03-29T21:00:00Z</td>\n",
       "      <td>{'id': None, 'name': 'Lifehacker.com'}</td>\n",
       "      <td>If You See Green Storm Clouds, Prepare for the...</td>\n",
       "      <td>https://lifehacker.com/if-you-see-green-storm-...</td>\n",
       "      <td>https://i.kinja-img.com/gawker-media/image/upl...</td>\n",
       "      <td>None</td>\n",
       "      <td>Lifehacker.com</td>\n",
       "    </tr>\n",
       "    <tr>\n",
       "      <th>2</th>\n",
       "      <td>Maddie Stone on Earther, shared by Andrew Cout...</td>\n",
       "      <td>Weather geeks went wild last week when the Nat...</td>\n",
       "      <td>Weather geeks went wild last week when the Nat...</td>\n",
       "      <td>2018-08-09T13:33:00Z</td>\n",
       "      <td>{'id': None, 'name': 'Gizmodo.com'}</td>\n",
       "      <td>California's Viral Fire Tornado Has Scientists...</td>\n",
       "      <td>https://earther.gizmodo.com/californias-viral-...</td>\n",
       "      <td>https://i.kinja-img.com/gawker-media/image/upl...</td>\n",
       "      <td>None</td>\n",
       "      <td>Gizmodo.com</td>\n",
       "    </tr>\n",
       "    <tr>\n",
       "      <th>3</th>\n",
       "      <td>Laura Vitto</td>\n",
       "      <td>Harrowing new footage released by California's...</td>\n",
       "      <td>Harrowing new footage released by California's...</td>\n",
       "      <td>2018-08-18T15:11:00Z</td>\n",
       "      <td>{'id': 'mashable', 'name': 'Mashable'}</td>\n",
       "      <td>Deadly, 40,000-foot fire tornado revealed in n...</td>\n",
       "      <td>https://mashable.com/2018/08/18/fire-tornado-c...</td>\n",
       "      <td>https://i.amz.mshcdn.com/wGGKuJnaCby3RdJJ-sdWp...</td>\n",
       "      <td>mashable</td>\n",
       "      <td>Mashable</td>\n",
       "    </tr>\n",
       "    <tr>\n",
       "      <th>5</th>\n",
       "      <td>ALAN BLINDER</td>\n",
       "      <td>The presidents trip came three days after he a...</td>\n",
       "      <td>President Trump’s visit to Beauregard, Ala., c...</td>\n",
       "      <td>2019-03-08T20:08:42Z</td>\n",
       "      <td>{'id': 'the-new-york-times', 'name': 'The New ...</td>\n",
       "      <td>Trump Surveys Tornado Damage in Alabama</td>\n",
       "      <td>https://www.nytimes.com/2019/03/08/us/trump-al...</td>\n",
       "      <td>https://static01.nyt.com/images/2019/03/08/us/...</td>\n",
       "      <td>the-new-york-times</td>\n",
       "      <td>The New York Times</td>\n",
=======
       "      <td>Megan Rose Dickey</td>\n",
       "      <td>The lack of diversity issue in Silicon Valley ...</td>\n",
       "      <td>The lack of diversity issue in Silicon Valley ...</td>\n",
       "      <td>2018-07-30T17:21:57Z</td>\n",
       "      <td>Venture capital’s diversity disaster</td>\n",
       "      <td>http://techcrunch.com/2018/07/30/venture-capit...</td>\n",
       "      <td>TechCrunch</td>\n",
       "      <td>1</td>\n",
       "    </tr>\n",
       "    <tr>\n",
       "      <th>2</th>\n",
       "      <td>Devin Coldewey</td>\n",
       "      <td>One would think that having one of the most hi...</td>\n",
       "      <td>One would think that having one of the most hi...</td>\n",
       "      <td>2019-03-08T20:32:24Z</td>\n",
       "      <td>MyEquifax.com is yet another security disaster</td>\n",
       "      <td>http://techcrunch.com/2019/03/08/myequifax-com...</td>\n",
       "      <td>TechCrunch</td>\n",
       "      <td>1</td>\n",
       "    </tr>\n",
       "    <tr>\n",
       "      <th>3</th>\n",
       "      <td>Matt Simon</td>\n",
       "      <td>California continues to take stock of its unpr...</td>\n",
       "      <td>The rains are coming to California, and the fi...</td>\n",
       "      <td>2018-11-20T11:00:00Z</td>\n",
       "      <td>California Fire Survivors Brace for Debris-Fil...</td>\n",
       "      <td>https://www.wired.com/story/california-fire-su...</td>\n",
       "      <td>Wired</td>\n",
       "      <td>1</td>\n",
       "    </tr>\n",
       "    <tr>\n",
       "      <th>4</th>\n",
       "      <td>Nick Douglas</td>\n",
       "      <td>Does the Sydney Opera House really exist outsi...</td>\n",
       "      <td>Does the Sydney Opera House really exist outsi...</td>\n",
       "      <td>2018-05-14T13:00:00Z</td>\n",
       "      <td>Tell Us Your Sydney, Australia Travel Tips</td>\n",
       "      <td>https://lifehacker.com/tell-us-your-sydney-aus...</td>\n",
       "      <td>Lifehacker.com</td>\n",
       "      <td>1</td>\n",
>>>>>>> 9c272d86819b0d7ff67fe00b3bde83217d2a70ba
       "    </tr>\n",
       "  </tbody>\n",
       "</table>\n",
       "</div>"
      ],
      "text/plain": [
<<<<<<< HEAD
       "                                              author  \\\n",
       "0                                      Patrick Allan   \n",
       "1                                      Patrick Allan   \n",
       "2  Maddie Stone on Earther, shared by Andrew Cout...   \n",
       "3                                        Laura Vitto   \n",
       "5                                       ALAN BLINDER   \n",
       "\n",
       "                                             content  \\\n",
       "0  Every year, around 1,200 tornadoes hit the Uni...   \n",
       "1  You see those green, billowing storm clouds ov...   \n",
       "2  Weather geeks went wild last week when the Nat...   \n",
       "3  Harrowing new footage released by California's...   \n",
       "5  The presidents trip came three days after he a...   \n",
       "\n",
       "                                         description           publishedAt  \\\n",
       "0  Every year, around 1,200 tornadoes hit the Uni...  2018-05-07T21:00:00Z   \n",
       "1  You see those green, billowing storm clouds ov...  2018-03-29T21:00:00Z   \n",
       "2  Weather geeks went wild last week when the Nat...  2018-08-09T13:33:00Z   \n",
       "3  Harrowing new footage released by California's...  2018-08-18T15:11:00Z   \n",
       "5  President Trump’s visit to Beauregard, Ala., c...  2019-03-08T20:08:42Z   \n",
       "\n",
       "                                              source  \\\n",
       "0             {'id': None, 'name': 'Lifehacker.com'}   \n",
       "1             {'id': None, 'name': 'Lifehacker.com'}   \n",
       "2                {'id': None, 'name': 'Gizmodo.com'}   \n",
       "3             {'id': 'mashable', 'name': 'Mashable'}   \n",
       "5  {'id': 'the-new-york-times', 'name': 'The New ...   \n",
       "\n",
       "                                               title  \\\n",
       "0                  How to Stay Safe During a Tornado   \n",
       "1  If You See Green Storm Clouds, Prepare for the...   \n",
       "2  California's Viral Fire Tornado Has Scientists...   \n",
       "3  Deadly, 40,000-foot fire tornado revealed in n...   \n",
       "5            Trump Surveys Tornado Damage in Alabama   \n",
       "\n",
       "                                                 url  \\\n",
       "0  https://lifehacker.com/how-to-stay-safe-during...   \n",
       "1  https://lifehacker.com/if-you-see-green-storm-...   \n",
       "2  https://earther.gizmodo.com/californias-viral-...   \n",
       "3  https://mashable.com/2018/08/18/fire-tornado-c...   \n",
       "5  https://www.nytimes.com/2019/03/08/us/trump-al...   \n",
       "\n",
       "                                          urlToImage           source_id  \\\n",
       "0  https://i.kinja-img.com/gawker-media/image/upl...                None   \n",
       "1  https://i.kinja-img.com/gawker-media/image/upl...                None   \n",
       "2  https://i.kinja-img.com/gawker-media/image/upl...                None   \n",
       "3  https://i.amz.mshcdn.com/wGGKuJnaCby3RdJJ-sdWp...            mashable   \n",
       "5  https://static01.nyt.com/images/2019/03/08/us/...  the-new-york-times   \n",
       "\n",
       "          source_name  \n",
       "0      Lifehacker.com  \n",
       "1      Lifehacker.com  \n",
       "2         Gizmodo.com  \n",
       "3            Mashable  \n",
       "5  The New York Times  "
      ]
     },
     "execution_count": 8,
=======
       "              author                                            content  \\\n",
       "0       Nick Douglas  If I was setting up curriculum at a university...   \n",
       "1  Megan Rose Dickey  The lack of diversity issue in Silicon Valley ...   \n",
       "2     Devin Coldewey  One would think that having one of the most hi...   \n",
       "3         Matt Simon  California continues to take stock of its unpr...   \n",
       "4       Nick Douglas  Does the Sydney Opera House really exist outsi...   \n",
       "\n",
       "                                         description           publishedAt  \\\n",
       "0  “If I was setting up curriculum at a universit...  2019-02-21T18:00:00Z   \n",
       "1  The lack of diversity issue in Silicon Valley ...  2018-07-30T17:21:57Z   \n",
       "2  One would think that having one of the most hi...  2019-03-08T20:32:24Z   \n",
       "3  The rains are coming to California, and the fi...  2018-11-20T11:00:00Z   \n",
       "4  Does the Sydney Opera House really exist outsi...  2018-05-14T13:00:00Z   \n",
       "\n",
       "                                               title  \\\n",
       "0             How Tiny Mistakes Cause Huge Disasters   \n",
       "1               Venture capital’s diversity disaster   \n",
       "2     MyEquifax.com is yet another security disaster   \n",
       "3  California Fire Survivors Brace for Debris-Fil...   \n",
       "4         Tell Us Your Sydney, Australia Travel Tips   \n",
       "\n",
       "                                                 url     source_name  \\\n",
       "0  https://lifehacker.com/how-tiny-mistakes-cause...  Lifehacker.com   \n",
       "1  http://techcrunch.com/2018/07/30/venture-capit...      TechCrunch   \n",
       "2  http://techcrunch.com/2019/03/08/myequifax-com...      TechCrunch   \n",
       "3  https://www.wired.com/story/california-fire-su...           Wired   \n",
       "4  https://lifehacker.com/tell-us-your-sydney-aus...  Lifehacker.com   \n",
       "\n",
       "   yes_disaster  \n",
       "0             1  \n",
       "1             1  \n",
       "2             1  \n",
       "3             1  \n",
       "4             1  "
      ]
     },
     "execution_count": 176,
>>>>>>> 9c272d86819b0d7ff67fe00b3bde83217d2a70ba
     "metadata": {},
     "output_type": "execute_result"
    }
   ],
   "source": [
<<<<<<< HEAD
    "save_news (['earthquake','Tornado'], n_pagesize=10, n_pages=3, save_to_csv=True)"
=======
    "df= pd.read_csv('../data/b_1554939746.6693828.csv')\n",
    "df = df.drop(['source','urlToImage','source_id'], axis=1)\n",
    "df.head()"
>>>>>>> 9c272d86819b0d7ff67fe00b3bde83217d2a70ba
   ]
  },
  {
   "cell_type": "code",
   "execution_count": null,
   "metadata": {},
   "outputs": [],
   "source": []
  }
 ],
 "metadata": {
  "kernelspec": {
   "display_name": "Python 3",
   "language": "python",
   "name": "python3"
  },
  "language_info": {
   "codemirror_mode": {
    "name": "ipython",
    "version": 3
   },
   "file_extension": ".py",
   "mimetype": "text/x-python",
   "name": "python",
   "nbconvert_exporter": "python",
   "pygments_lexer": "ipython3",
<<<<<<< HEAD
   "version": "3.7.2"
=======
   "version": "3.7.1"
>>>>>>> bf69ca2d065d15b3f09ab74b797464425f86daa8
  }
 },
 "nbformat": 4,
 "nbformat_minor": 2
}
