{
 "cells": [
  {
   "cell_type": "code",
   "execution_count": 27,
   "metadata": {},
   "outputs": [],
   "source": [
    "import pandas as pd\n",
    "import numpy as np\n",
    "import regex as re\n",
    "from nltk.tokenize import RegexpTokenizer\n",
    "from nltk.stem import WordNetLemmatizer\n",
    "from nltk.corpus import stopwords\n",
    "\n",
    "from datetime import date\n",
    "import time\n",
    "now = time.time()\n",
    "\n",
    "import matplotlib.pyplot as plt\n",
    "%matplotlib inline\n",
    "\n",
    "import warnings\n",
    "warnings.filterwarnings('ignore')"
   ]
  },
  {
   "cell_type": "markdown",
   "metadata": {},
   "source": [
    "**Merge all consolidated CSV files to final**"
   ]
  },
  {
   "cell_type": "code",
   "execution_count": 48,
   "metadata": {},
   "outputs": [],
   "source": [
    "import glob\n",
    "df_final_consolidated= pd.concat([pd.read_csv(f) for f in glob.glob('../data/*.csv')], ignore_index = True)\n",
    "\n",
    "df_final_consolidated.to_csv('../data/'+'df_final_consolidated'+'.csv' ,index = False, sep = \",\") "
   ]
  },
  {
   "cell_type": "code",
   "execution_count": 49,
   "metadata": {},
   "outputs": [
    {
     "data": {
      "text/plain": [
       "array([1, 0])"
      ]
     },
     "execution_count": 49,
     "metadata": {},
     "output_type": "execute_result"
    }
   ],
   "source": [
    "df['yes_disaster'].unique()"
   ]
  },
  {
   "cell_type": "code",
   "execution_count": 50,
   "metadata": {},
   "outputs": [
    {
     "data": {
      "text/plain": [
       "(6160, 12)"
      ]
     },
     "execution_count": 50,
     "metadata": {},
     "output_type": "execute_result"
    }
   ],
   "source": [
    "df.drop_duplicates(subset=['content','description'],keep='last').shape"
   ]
  },
  {
   "cell_type": "code",
   "execution_count": 51,
   "metadata": {},
   "outputs": [
    {
     "data": {
      "text/plain": [
       "'IED blast in Kashmir, 4km from Pulwama terror attack spot; no casualty Hindustan Times An improvised explosive device (IED) went off in a Jammu and Kashmir village in Awantipora on Saturday, barely 4 km from the February 14 Pulwama attack... View full coverag…'"
      ]
     },
     "execution_count": 51,
     "metadata": {},
     "output_type": "execute_result"
    }
   ],
   "source": [
    "df.description[1]"
   ]
  },
  {
   "cell_type": "code",
   "execution_count": 54,
   "metadata": {},
   "outputs": [],
   "source": [
    "def tokenizer_lemmatizer (text): \n",
    "    '''\n",
    "    Initializing tokenizer and lemmatizer to handle NLP preprocessing. \n",
    "    1. breakdown the word by alphanumeric characters and dollar with number\n",
    "    2. Create a list that appended with lemmatized posts and rejoin words by one string \n",
    "       alongside removing characters and numbers\n",
    "    '''\n",
    "    \n",
    "    tokenizer = RegexpTokenizer('\\w+|\\$[\\d\\.]+|\\S+')\n",
    "    tokens = [tokenizer.tokenize(str(post).lower()) for post in (df[text])]\n",
    "    \n",
    "    \n",
    "    lemmatizer = WordNetLemmatizer()\n",
    "    lems = []\n",
    "    for post in tokens:\n",
    "        tok_post = []\n",
    "        for word in post:\n",
    "            tok_post.append(re.sub(\"[^a-zA-Z]\", \"\", lemmatizer.lemmatize(word))) #Remove non-letter\n",
    "        posts = \" \".join(tok_post)\n",
    "        lems.append(posts)\n",
    "    \n",
    "    words_not_used = ['wa', 've', 'ha', 'don']\n",
    "    \n",
    "    lems = [w for w in lems if not w in words_not_used] #stopwords.words('english')\n",
    "    \n",
    "    df[text] = lems #overwrite the df\n",
    "    \n",
    "    print (f'tokenizer processed: {len(tokens)}')\n",
    "    print (f'lemmatizer processed: {len(lems)}')\n",
    "    #return lems"
   ]
  },
  {
   "cell_type": "code",
   "execution_count": 55,
   "metadata": {},
   "outputs": [
    {
     "name": "stdout",
     "output_type": "stream",
     "text": [
      "tokenizer processed: 8047\n",
      "lemmatizer processed: 8047\n"
     ]
    }
   ],
   "source": [
    "tokenizer_lemmatizer('content')\n",
    "tokenizer_lemmatizer('description')\n",
    "tokenizer_lemmatizer('title')"
   ]
  },
  {
   "cell_type": "code",
   "execution_count": 13,
   "metadata": {
    "scrolled": true
   },
   "outputs": [
    {
     "data": {
      "text/plain": [
       "'ied blast in kashmir km from pulwama terror attack spot no casualty hindustan time an improvised explosive device ied went off in a jammu and kashmir village in awantipora on saturday barely  km from the february  pulwama attack view full coverag'"
      ]
     },
     "execution_count": 13,
     "metadata": {},
     "output_type": "execute_result"
    }
   ],
   "source": [
    "df.description[1]"
   ]
  },
  {
   "cell_type": "markdown",
   "metadata": {},
   "source": [
    "**Checkpoint**: save to work-in-progress CSV file"
   ]
  },
  {
   "cell_type": "code",
   "execution_count": 56,
   "metadata": {},
   "outputs": [],
   "source": [
    "df.to_csv('../data/'+'tokenizer_lemmatizer'+'.csv' ,index = False, sep = \",\") "
   ]
  }
 ],
 "metadata": {
  "kernelspec": {
   "display_name": "Python 3",
   "language": "python",
   "name": "python3"
  },
  "language_info": {
   "codemirror_mode": {
    "name": "ipython",
    "version": 3
   },
   "file_extension": ".py",
   "mimetype": "text/x-python",
   "name": "python",
   "nbconvert_exporter": "python",
   "pygments_lexer": "ipython3",
   "version": "3.6.8"
  }
 },
 "nbformat": 4,
 "nbformat_minor": 2
}
