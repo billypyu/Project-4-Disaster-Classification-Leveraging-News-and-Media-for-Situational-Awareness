{
 "cells": [
  {
   "cell_type": "code",
   "execution_count": 2,
   "metadata": {},
   "outputs": [],
   "source": [
    "import pandas as pd\n",
    "import numpy as np\n",
    "import regex as re\n",
    "from nltk.tokenize import RegexpTokenizer\n",
    "from nltk.stem import WordNetLemmatizer\n",
    "from nltk.corpus import stopwords\n",
    "\n",
    "from datetime import date\n",
    "import time\n",
    "now = time.time()\n",
    "\n",
    "import matplotlib.pyplot as plt\n",
    "%matplotlib inline\n",
    "\n",
    "import warnings\n",
    "warnings.filterwarnings('ignore')"
   ]
  },
  {
   "cell_type": "markdown",
   "metadata": {},
   "source": [
    "**Merge all consolidated CSV files to final**"
   ]
  },
  {
   "cell_type": "code",
   "execution_count": 12,
   "metadata": {},
   "outputs": [],
   "source": [
    "import glob\n",
    "df_final_consolidated = pd.concat([pd.read_csv(f) for f in glob.glob('../data/consolidate_data/*.csv')], \n",
    "                                  ignore_index = True)\n",
    "df_final_consolidated.drop(columns = 'Unnamed: 0', inplace = True)\n",
    "# df_final_consolidated.to_csv('../data/'+'df_final_consolidated'+'.csv' ,index = False, sep = \",\") "
   ]
  },
  {
   "cell_type": "code",
   "execution_count": 13,
   "metadata": {
    "scrolled": false
   },
   "outputs": [
    {
     "data": {
      "text/plain": [
       "array([0, 1])"
      ]
     },
     "execution_count": 13,
     "metadata": {},
     "output_type": "execute_result"
    }
   ],
   "source": [
    "df_final_consolidated['yes_disaster'].unique()"
   ]
  },
  {
   "cell_type": "code",
   "execution_count": 15,
   "metadata": {},
   "outputs": [
    {
     "data": {
      "text/html": [
       "<div>\n",
       "<style scoped>\n",
       "    .dataframe tbody tr th:only-of-type {\n",
       "        vertical-align: middle;\n",
       "    }\n",
       "\n",
       "    .dataframe tbody tr th {\n",
       "        vertical-align: top;\n",
       "    }\n",
       "\n",
       "    .dataframe thead th {\n",
       "        text-align: right;\n",
       "    }\n",
       "</style>\n",
       "<table border=\"1\" class=\"dataframe\">\n",
       "  <thead>\n",
       "    <tr style=\"text-align: right;\">\n",
       "      <th></th>\n",
       "      <th>author</th>\n",
       "      <th>content</th>\n",
       "      <th>description</th>\n",
       "      <th>publishedAt</th>\n",
       "      <th>source</th>\n",
       "      <th>source_id</th>\n",
       "      <th>source_name</th>\n",
       "      <th>title</th>\n",
       "      <th>types</th>\n",
       "      <th>url</th>\n",
       "      <th>urlToImage</th>\n",
       "      <th>yes_disaster</th>\n",
       "    </tr>\n",
       "  </thead>\n",
       "  <tbody>\n",
       "    <tr>\n",
       "      <th>0</th>\n",
       "      <td>A.A. Newton</td>\n",
       "      <td>Large portions of the southeastern United Stat...</td>\n",
       "      <td>Large portions of the southeastern United Stat...</td>\n",
       "      <td>2018-10-09T16:30:00Z</td>\n",
       "      <td>{'id': None, 'name': 'Lifehacker.com'}</td>\n",
       "      <td>NaN</td>\n",
       "      <td>Lifehacker.com</td>\n",
       "      <td>How to Track Hurricane Michael</td>\n",
       "      <td>landfall</td>\n",
       "      <td>https://lifehacker.com/how-to-track-hurricane-...</td>\n",
       "      <td>https://i.kinja-img.com/gawker-media/image/upl...</td>\n",
       "      <td>0</td>\n",
       "    </tr>\n",
       "    <tr>\n",
       "      <th>1</th>\n",
       "      <td>Brian Kahn on Earther, shared by Tom McKay to ...</td>\n",
       "      <td>Hurricane Michael is on track to make landfall...</td>\n",
       "      <td>Hurricane Michael is on track to make landfall...</td>\n",
       "      <td>2018-10-09T20:10:00Z</td>\n",
       "      <td>{'id': None, 'name': 'Gizmodo.com'}</td>\n",
       "      <td>NaN</td>\n",
       "      <td>Gizmodo.com</td>\n",
       "      <td>Why Hurricane Michael Could Bring 13 Feet of S...</td>\n",
       "      <td>landfall</td>\n",
       "      <td>https://earther.gizmodo.com/why-hurricane-mich...</td>\n",
       "      <td>https://i.kinja-img.com/gawker-media/image/upl...</td>\n",
       "      <td>0</td>\n",
       "    </tr>\n",
       "    <tr>\n",
       "      <th>2</th>\n",
       "      <td>Tom McKay</td>\n",
       "      <td>On Tuesday, Google announced yet another massi...</td>\n",
       "      <td>On Tuesday, Google announced yet another massi...</td>\n",
       "      <td>2018-07-17T23:27:00Z</td>\n",
       "      <td>{'id': None, 'name': 'Gizmodo.com'}</td>\n",
       "      <td>NaN</td>\n",
       "      <td>Gizmodo.com</td>\n",
       "      <td>Google Announces Plan to Lay Massive Subsea Ca...</td>\n",
       "      <td>landfall</td>\n",
       "      <td>https://gizmodo.com/google-announces-plan-to-l...</td>\n",
       "      <td>https://i.kinja-img.com/gawker-media/image/upl...</td>\n",
       "      <td>0</td>\n",
       "    </tr>\n",
       "    <tr>\n",
       "      <th>3</th>\n",
       "      <td>https://www.facebook.com/bbcnews</td>\n",
       "      <td>A selection of photos from across Africa and A...</td>\n",
       "      <td>A selection of the week's best photos from acr...</td>\n",
       "      <td>2019-03-29T00:58:15Z</td>\n",
       "      <td>{'id': 'bbc-news', 'name': 'BBC News'}</td>\n",
       "      <td>bbc-news</td>\n",
       "      <td>BBC News</td>\n",
       "      <td>Africa's week in pictures: 22-28 March 2019</td>\n",
       "      <td>landfall</td>\n",
       "      <td>https://www.bbc.co.uk/news/world-africa-47734545</td>\n",
       "      <td>https://ichef.bbci.co.uk/news/1024/branded_new...</td>\n",
       "      <td>0</td>\n",
       "    </tr>\n",
       "    <tr>\n",
       "      <th>4</th>\n",
       "      <td>Chloe Bryan</td>\n",
       "      <td>Hurricane Michael made landfall in the Florida...</td>\n",
       "      <td>Hurricane Michael made landfall in the Florida...</td>\n",
       "      <td>2018-10-11T15:35:08Z</td>\n",
       "      <td>{'id': 'mashable', 'name': 'Mashable'}</td>\n",
       "      <td>mashable</td>\n",
       "      <td>Mashable</td>\n",
       "      <td>Photos show widespread destruction in the afte...</td>\n",
       "      <td>landfall</td>\n",
       "      <td>https://mashable.com/article/hurricane-michael...</td>\n",
       "      <td>https://i.amz.mshcdn.com/VPO6iYdrwgOdpUY9wW3TF...</td>\n",
       "      <td>0</td>\n",
       "    </tr>\n",
       "  </tbody>\n",
       "</table>\n",
       "</div>"
      ],
      "text/plain": [
       "                                              author  \\\n",
       "0                                        A.A. Newton   \n",
       "1  Brian Kahn on Earther, shared by Tom McKay to ...   \n",
       "2                                          Tom McKay   \n",
       "3                   https://www.facebook.com/bbcnews   \n",
       "4                                        Chloe Bryan   \n",
       "\n",
       "                                             content  \\\n",
       "0  Large portions of the southeastern United Stat...   \n",
       "1  Hurricane Michael is on track to make landfall...   \n",
       "2  On Tuesday, Google announced yet another massi...   \n",
       "3  A selection of photos from across Africa and A...   \n",
       "4  Hurricane Michael made landfall in the Florida...   \n",
       "\n",
       "                                         description           publishedAt  \\\n",
       "0  Large portions of the southeastern United Stat...  2018-10-09T16:30:00Z   \n",
       "1  Hurricane Michael is on track to make landfall...  2018-10-09T20:10:00Z   \n",
       "2  On Tuesday, Google announced yet another massi...  2018-07-17T23:27:00Z   \n",
       "3  A selection of the week's best photos from acr...  2019-03-29T00:58:15Z   \n",
       "4  Hurricane Michael made landfall in the Florida...  2018-10-11T15:35:08Z   \n",
       "\n",
       "                                   source source_id     source_name  \\\n",
       "0  {'id': None, 'name': 'Lifehacker.com'}       NaN  Lifehacker.com   \n",
       "1     {'id': None, 'name': 'Gizmodo.com'}       NaN     Gizmodo.com   \n",
       "2     {'id': None, 'name': 'Gizmodo.com'}       NaN     Gizmodo.com   \n",
       "3  {'id': 'bbc-news', 'name': 'BBC News'}  bbc-news        BBC News   \n",
       "4  {'id': 'mashable', 'name': 'Mashable'}  mashable        Mashable   \n",
       "\n",
       "                                               title     types  \\\n",
       "0                     How to Track Hurricane Michael  landfall   \n",
       "1  Why Hurricane Michael Could Bring 13 Feet of S...  landfall   \n",
       "2  Google Announces Plan to Lay Massive Subsea Ca...  landfall   \n",
       "3        Africa's week in pictures: 22-28 March 2019  landfall   \n",
       "4  Photos show widespread destruction in the afte...  landfall   \n",
       "\n",
       "                                                 url  \\\n",
       "0  https://lifehacker.com/how-to-track-hurricane-...   \n",
       "1  https://earther.gizmodo.com/why-hurricane-mich...   \n",
       "2  https://gizmodo.com/google-announces-plan-to-l...   \n",
       "3   https://www.bbc.co.uk/news/world-africa-47734545   \n",
       "4  https://mashable.com/article/hurricane-michael...   \n",
       "\n",
       "                                          urlToImage  yes_disaster  \n",
       "0  https://i.kinja-img.com/gawker-media/image/upl...             0  \n",
       "1  https://i.kinja-img.com/gawker-media/image/upl...             0  \n",
       "2  https://i.kinja-img.com/gawker-media/image/upl...             0  \n",
       "3  https://ichef.bbci.co.uk/news/1024/branded_new...             0  \n",
       "4  https://i.amz.mshcdn.com/VPO6iYdrwgOdpUY9wW3TF...             0  "
      ]
     },
     "execution_count": 15,
     "metadata": {},
     "output_type": "execute_result"
    }
   ],
   "source": [
    "df_final_consolidated.head()"
   ]
  },
  {
   "cell_type": "code",
   "execution_count": 16,
   "metadata": {},
   "outputs": [
    {
     "data": {
      "text/plain": [
       "0    17504\n",
       "1     8572\n",
       "Name: yes_disaster, dtype: int64"
      ]
     },
     "execution_count": 16,
     "metadata": {},
     "output_type": "execute_result"
    }
   ],
   "source": [
    "df_final_consolidated['yes_disaster'].value_counts()"
   ]
  },
  {
   "cell_type": "code",
   "execution_count": 17,
   "metadata": {},
   "outputs": [
    {
     "data": {
      "text/plain": [
       "(18292, 12)"
      ]
     },
     "execution_count": 17,
     "metadata": {},
     "output_type": "execute_result"
    }
   ],
   "source": [
    "df_final_consolidated.drop_duplicates(subset=['content','description'],keep='last').shape"
   ]
  },
  {
   "cell_type": "code",
   "execution_count": 19,
   "metadata": {
    "scrolled": true
   },
   "outputs": [
    {
     "data": {
      "text/plain": [
       "'Hurricane Michael is on track to make landfall in Florida’s Panhandle Wednesday as one of the fiercest storms the region has ever seen. While Florence drenched the Carolinas with record rainfall and other hurricanes attack with wind, Michael’s main threat wil…'"
      ]
     },
     "execution_count": 19,
     "metadata": {},
     "output_type": "execute_result"
    }
   ],
   "source": [
    "df_final_consolidated.description[1]"
   ]
  },
  {
   "cell_type": "markdown",
   "metadata": {},
   "source": [
    "Note: Since the classes are unbalanced, we will need a function to produce the balanced class. "
   ]
  },
  {
   "cell_type": "code",
   "execution_count": 23,
   "metadata": {},
   "outputs": [],
   "source": [
    "def balance_class(df): \n",
    "    '''\n",
    "    Balance class in the dataframe . \n",
    "    1. Take dataframe and break it down into two parts, one with 1s only, the other with 0s only \n",
    "    2. Randomly select the same number of 1's from 0s dataframe without replacement \n",
    "    3. combine the 1s dataframe with the randomly selected 0s dataframe to create a balanced dataframe \n",
    "    4. return a balanced class dataframe\n",
    "    '''\n",
    "    #two dataframes \n",
    "    df_1 = df[df['yes_disaster'] == 1]  #dataframe with 1's only \n",
    "    df_0 = df[df['yes_disaster'] == 0]  #dataframe with 0's only \n",
    "    \n",
    "    #number of 1's \n",
    "    num = df_1.shape[0]\n",
    "    \n",
    "    #randomly generate 0's from df_0 \n",
    "    df_rd_0 = df_0.sample(n = num, replace = False)\n",
    "    \n",
    "    #balanced class df\n",
    "    new_df = pd.concat([df_1, df_rd_0], ignore_index = True)\n",
    "    \n",
    "    return new_df"
   ]
  },
  {
   "cell_type": "code",
   "execution_count": 27,
   "metadata": {},
   "outputs": [
    {
     "data": {
      "text/plain": [
       "1    8572\n",
       "0    8572\n",
       "Name: yes_disaster, dtype: int64"
      ]
     },
     "execution_count": 27,
     "metadata": {},
     "output_type": "execute_result"
    }
   ],
   "source": [
    "#testing function \n",
    "test_df = balance_class(df_final_consolidated)\n",
    "test_df['yes_disaster'].value_counts()"
   ]
  },
  {
   "cell_type": "code",
   "execution_count": 54,
   "metadata": {},
   "outputs": [],
   "source": [
    "def tokenizer_lemmatizer (text): \n",
    "    '''\n",
    "    Initializing tokenizer and lemmatizer to handle NLP preprocessing. \n",
    "    1. breakdown the word by alphanumeric characters and dollar with number\n",
    "    2. Create a list that appended with lemmatized posts and rejoin words by one string \n",
    "       alongside removing characters and numbers\n",
    "    '''\n",
    "    \n",
    "    tokenizer = RegexpTokenizer('\\w+|\\$[\\d\\.]+|\\S+')\n",
    "    tokens = [tokenizer.tokenize(str(post).lower()) for post in (df[text])]\n",
    "    \n",
    "    \n",
    "    lemmatizer = WordNetLemmatizer()\n",
    "    lems = []\n",
    "    for post in tokens:\n",
    "        tok_post = []\n",
    "        for word in post:\n",
    "            tok_post.append(re.sub(\"[^a-zA-Z]\", \"\", lemmatizer.lemmatize(word))) #Remove non-letter\n",
    "        posts = \" \".join(tok_post)\n",
    "        lems.append(posts)\n",
    "    \n",
    "    words_not_used = ['wa', 've', 'ha', 'don']\n",
    "    \n",
    "    lems = [w for w in lems if not w in words_not_used] #stopwords.words('english')\n",
    "    \n",
    "    df[text] = lems #overwrite the df\n",
    "    \n",
    "    print (f'tokenizer processed: {len(tokens)}')\n",
    "    print (f'lemmatizer processed: {len(lems)}')\n",
    "    #return lems"
   ]
  },
  {
   "cell_type": "code",
   "execution_count": 55,
   "metadata": {},
   "outputs": [
    {
     "name": "stdout",
     "output_type": "stream",
     "text": [
      "tokenizer processed: 8047\n",
      "lemmatizer processed: 8047\n"
     ]
    }
   ],
   "source": [
    "tokenizer_lemmatizer('content')\n",
    "tokenizer_lemmatizer('description')\n",
    "tokenizer_lemmatizer('title')"
   ]
  },
  {
   "cell_type": "code",
   "execution_count": 13,
   "metadata": {
    "scrolled": true
   },
   "outputs": [
    {
     "data": {
      "text/plain": [
       "'ied blast in kashmir km from pulwama terror attack spot no casualty hindustan time an improvised explosive device ied went off in a jammu and kashmir village in awantipora on saturday barely  km from the february  pulwama attack view full coverag'"
      ]
     },
     "execution_count": 13,
     "metadata": {},
     "output_type": "execute_result"
    }
   ],
   "source": [
    "df.description[1]"
   ]
  },
  {
   "cell_type": "markdown",
   "metadata": {},
   "source": [
    "**Checkpoint**: save to work-in-progress CSV file"
   ]
  },
  {
   "cell_type": "code",
   "execution_count": 56,
   "metadata": {},
   "outputs": [],
   "source": [
    "# df.to_csv('../data/'+'tokenizer_lemmatizer'+'.csv' ,index = False, sep = \",\") "
   ]
  }
 ],
 "metadata": {
  "kernelspec": {
   "display_name": "Python 3",
   "language": "python",
   "name": "python3"
  },
  "language_info": {
   "codemirror_mode": {
    "name": "ipython",
    "version": 3
   },
   "file_extension": ".py",
   "mimetype": "text/x-python",
   "name": "python",
   "nbconvert_exporter": "python",
   "pygments_lexer": "ipython3",
   "version": "3.7.1"
  }
 },
 "nbformat": 4,
 "nbformat_minor": 2
}
