{
 "cells": [
  {
   "cell_type": "markdown",
   "metadata": {},
   "source": [
    "# Modeling with CountVectorizer + TFIDF "
   ]
  },
  {
   "cell_type": "markdown",
   "metadata": {},
   "source": [
    "The goal of this workbook is to explore a collection of text documents with combination of features extraction techniques in text and feature engineering. \n",
    "1. Features extraction: CountVectorizer, and TFIDF\n",
    "2. Feature engineering: Content only, Content + Description feature\n",
    "3. Parameters: Using the custom_stop_words_final or not, ngrams: (1,2) and (1,3), TFIDF with min, max. \n",
    "\n",
    "Also, nine models are compared for performance metrics including accuracy, recall, and train-test score. We adapted KNN, logistic regression and Naive Bayes as our final candidates for the consideration of computing power, run time, and score metrics. "
   ]
  },
  {
   "cell_type": "markdown",
   "metadata": {
    "toc": true
   },
   "source": [
    "<h1>Table of Contents<span class=\"tocSkip\"></span></h1>\n",
    "<div class=\"toc\"><ul class=\"toc-item\"><li><span><a href=\"#Modeling-with-CountVectorizer-+-TFIDF\" data-toc-modified-id=\"Modeling-with-CountVectorizer-+-TFIDF-1\"><span class=\"toc-item-num\">1&nbsp;&nbsp;</span>Modeling with CountVectorizer + TFIDF</a></span><ul class=\"toc-item\"><li><span><a href=\"#Exploratory-data-analysis-(EDA)\" data-toc-modified-id=\"Exploratory-data-analysis-(EDA)-1.1\"><span class=\"toc-item-num\">1.1&nbsp;&nbsp;</span>Exploratory data analysis (EDA)</a></span></li><li><span><a href=\"#Features-II\" data-toc-modified-id=\"Features-II-1.2\"><span class=\"toc-item-num\">1.2&nbsp;&nbsp;</span>Features II</a></span></li></ul></li><li><span><a href=\"#Term-Frequency–Inverse-Document-Frequency-(TFIDF)\" data-toc-modified-id=\"Term-Frequency–Inverse-Document-Frequency-(TFIDF)-2\"><span class=\"toc-item-num\">2&nbsp;&nbsp;</span>Term Frequency–Inverse Document Frequency (TFIDF)</a></span></li><li><span><a href=\"#Models-Testing\" data-toc-modified-id=\"Models-Testing-3\"><span class=\"toc-item-num\">3&nbsp;&nbsp;</span>Models Testing</a></span></li><li><span><a href=\"#Word-Count\" data-toc-modified-id=\"Word-Count-4\"><span class=\"toc-item-num\">4&nbsp;&nbsp;</span>Word Count</a></span></li><li><span><a href=\"#Model-Scores\" data-toc-modified-id=\"Model-Scores-5\"><span class=\"toc-item-num\">5&nbsp;&nbsp;</span>Model Scores</a></span></li></ul></div>"
   ]
  },
  {
   "cell_type": "markdown",
   "metadata": {},
   "source": [
    "**All Library**"
   ]
  },
  {
   "cell_type": "code",
   "execution_count": 1,
   "metadata": {},
   "outputs": [],
   "source": [
    "import pandas as pd\n",
    "import numpy as np\n",
    "import regex as re\n",
    "from nltk.tokenize import RegexpTokenizer\n",
    "from nltk.stem import WordNetLemmatizer\n",
    "from nltk.corpus import stopwords\n",
    "from afinn import Afinn\n",
    "\n",
    "from sklearn.feature_extraction.text import TfidfTransformer, CountVectorizer, TfidfVectorizer\n",
    "from sklearn.model_selection import train_test_split, GridSearchCV\n",
    "from sklearn import metrics\n",
    "\n",
    "from sklearn.linear_model import LogisticRegression\n",
    "from sklearn.naive_bayes import MultinomialNB, GaussianNB\n",
    "from sklearn.neighbors import KNeighborsClassifier\n",
    "from sklearn.tree import DecisionTreeClassifier, export_graphviz\n",
    "from sklearn.ensemble import ExtraTreesClassifier, RandomForestClassifier, BaggingClassifier, GradientBoostingClassifier, AdaBoostClassifier\n",
    "from sklearn import svm\n",
    "\n",
    "import time\n",
    "import warnings\n",
    "warnings.filterwarnings('ignore')\n",
    "\n",
    "\n",
    "import matplotlib.pyplot as plt\n",
    "%matplotlib inline"
   ]
  },
  {
   "cell_type": "code",
   "execution_count": 2,
   "metadata": {},
   "outputs": [
    {
     "data": {
      "text/plain": [
       "(11102, 12)"
      ]
     },
     "execution_count": 2,
     "metadata": {},
     "output_type": "execute_result"
    }
   ],
   "source": [
    "df = pd.read_csv('../data/balanced_df_tokenized_lemmatized.csv')\n",
    "df.shape"
   ]
  },
  {
   "cell_type": "code",
   "execution_count": 3,
   "metadata": {},
   "outputs": [
    {
     "data": {
      "text/plain": [
       "array([1, 0])"
      ]
     },
     "execution_count": 3,
     "metadata": {},
     "output_type": "execute_result"
    }
   ],
   "source": [
    "df['yes_disaster'].unique() #check on the target value only contain 0/1"
   ]
  },
  {
   "cell_type": "code",
   "execution_count": 4,
   "metadata": {},
   "outputs": [
    {
     "data": {
      "text/plain": [
       "(11102, 12)"
      ]
     },
     "execution_count": 4,
     "metadata": {},
     "output_type": "execute_result"
    }
   ],
   "source": [
    "df.shape"
   ]
  },
  {
   "cell_type": "code",
   "execution_count": 5,
   "metadata": {
    "scrolled": false
   },
   "outputs": [
    {
     "data": {
      "text/plain": [
       "author           125\n",
       "content            1\n",
       "description        7\n",
       "publishedAt        5\n",
       "source             5\n",
       "source_id       4641\n",
       "source_name        5\n",
       "title              5\n",
       "types             58\n",
       "url                5\n",
       "urlToImage       166\n",
       "yes_disaster       0\n",
       "dtype: int64"
      ]
     },
     "execution_count": 5,
     "metadata": {},
     "output_type": "execute_result"
    }
   ],
   "source": [
    "df.isnull().sum()"
   ]
  },
  {
   "cell_type": "code",
   "execution_count": 6,
   "metadata": {},
   "outputs": [],
   "source": [
    "df['description'].fillna('', inplace=True)"
   ]
  },
  {
   "cell_type": "code",
   "execution_count": 7,
   "metadata": {},
   "outputs": [],
   "source": [
    "df['content'].fillna('', inplace=True)"
   ]
  },
  {
   "cell_type": "code",
   "execution_count": 8,
   "metadata": {},
   "outputs": [
    {
     "data": {
      "text/plain": [
       "author          object\n",
       "content         object\n",
       "description     object\n",
       "publishedAt     object\n",
       "source          object\n",
       "source_id       object\n",
       "source_name     object\n",
       "title           object\n",
       "types           object\n",
       "url             object\n",
       "urlToImage      object\n",
       "yes_disaster     int64\n",
       "dtype: object"
      ]
     },
     "execution_count": 8,
     "metadata": {},
     "output_type": "execute_result"
    }
   ],
   "source": [
    "df.dtypes"
   ]
  },
  {
   "cell_type": "markdown",
   "metadata": {},
   "source": [
    "Exploratory data analysis (EDA)\n",
    "---"
   ]
  },
  {
   "cell_type": "code",
   "execution_count": 9,
   "metadata": {},
   "outputs": [],
   "source": [
    "df.loc[:,'content_description'] = df['content'] + df['description']"
   ]
  },
  {
   "cell_type": "code",
   "execution_count": 10,
   "metadata": {},
   "outputs": [],
   "source": [
    "# Features I\n",
    "X = df['content_description']\n",
    "y = df['yes_disaster']"
   ]
  },
  {
   "cell_type": "code",
   "execution_count": 11,
   "metadata": {},
   "outputs": [],
   "source": [
    "X_train, X_test, y_train, y_test = train_test_split(X, \n",
    "                                                    y,\n",
    "                                                    random_state=42,\n",
    "                                                    stratify=y)"
   ]
  },
  {
   "cell_type": "code",
   "execution_count": 12,
   "metadata": {
    "scrolled": true
   },
   "outputs": [
    {
     "data": {
      "text/plain": [
       "True"
      ]
     },
     "execution_count": 12,
     "metadata": {},
     "output_type": "execute_result"
    }
   ],
   "source": [
    "y_train.shape[0] == X_train.shape[0]"
   ]
  },
  {
   "cell_type": "code",
   "execution_count": 13,
   "metadata": {},
   "outputs": [],
   "source": [
    "cvec = CountVectorizer(analyzer = \"word\",\n",
    "                             tokenizer = None,\n",
    "                             preprocessor = None,\n",
    "                             stop_words = 'english'\n",
    "                             ) "
   ]
  },
  {
   "cell_type": "code",
   "execution_count": 14,
   "metadata": {},
   "outputs": [],
   "source": [
    "X_train_cv = cvec.fit_transform(X_train) # must fit transform to numbers for train \n",
    "X_test_cv = cvec.transform(X_test)       # must transform to number for test"
   ]
  },
  {
   "cell_type": "code",
   "execution_count": 15,
   "metadata": {},
   "outputs": [],
   "source": [
    "#convert the sparse matrix to a typical ndarray using .toarray(). This will return a table\n",
    "cv_df = pd.DataFrame(X_train_cv.todense(),\n",
    "                   columns=cvec.get_feature_names())"
   ]
  },
  {
   "cell_type": "code",
   "execution_count": 16,
   "metadata": {},
   "outputs": [],
   "source": [
    "from project4_function import model_scores"
   ]
  },
  {
   "cell_type": "code",
   "execution_count": 17,
   "metadata": {},
   "outputs": [],
   "source": [
    "#instantiate models \n",
    "import warnings\n",
    "warnings.filterwarnings('ignore')\n",
    "\n",
    "lr  = LogisticRegression(random_state=0, solver='lbfgs')\n",
    "nb  = MultinomialNB()\n",
    "knn = KNeighborsClassifier()\n",
    "dt  = DecisionTreeClassifier()\n",
    "bag = BaggingClassifier(n_estimators=100)\n",
    "rf  = RandomForestClassifier(random_state = 42)\n",
    "et  = ExtraTreesClassifier(n_estimators=30, random_state = 42)\n",
    "ab  = AdaBoostClassifier(n_estimators=100)\n",
    "gb  = GradientBoostingClassifier(n_estimators=100)\n",
    "svc = svm.SVC(gamma='scale',\n",
    "               C=.1,\n",
    "               kernel='linear',\n",
    "               random_state=42)\n"
   ]
  },
  {
   "cell_type": "code",
   "execution_count": 18,
   "metadata": {},
   "outputs": [],
   "source": [
    "# models = [lr, nb,knn, dt, bag,rf,et,ab,gb,svc]\n",
    "\n",
    "# score_matrix = pd.DataFrame() \n",
    "\n",
    "# for i in models:\n",
    "#     score_matrix = score_matrix.append(model_scores(i, X_train_cv, y_train, X_test_cv, y_test))\n",
    "# score_matrix"
   ]
  },
  {
   "cell_type": "markdown",
   "metadata": {},
   "source": [
    "## Features II"
   ]
  },
  {
   "cell_type": "markdown",
   "metadata": {},
   "source": [
    "While selecting two features with CountVectorizer, content and description feature has a slightly higher score than content only, about 0.02 in the train-test gap. This could be attributed to the fact that more words are taken into the count vectors columns. Therefore, we could conclude that the feature columns have no significant differences. "
   ]
  },
  {
   "cell_type": "code",
   "execution_count": 19,
   "metadata": {},
   "outputs": [],
   "source": [
    "X = df['content']\n",
    "y = df['yes_disaster']"
   ]
  },
  {
   "cell_type": "code",
   "execution_count": 20,
   "metadata": {},
   "outputs": [],
   "source": [
    "X_train, X_test, y_train, y_test = train_test_split(X, \n",
    "                                                    y,\n",
    "                                                    random_state=42,\n",
    "                                                    stratify=y)"
   ]
  },
  {
   "cell_type": "code",
   "execution_count": 21,
   "metadata": {},
   "outputs": [],
   "source": [
    "cvec = CountVectorizer(analyzer = \"word\",\n",
    "                             tokenizer = None,\n",
    "                             preprocessor = None,\n",
    "                             stop_words = 'english'\n",
    "                             ) "
   ]
  },
  {
   "cell_type": "code",
   "execution_count": 22,
   "metadata": {},
   "outputs": [],
   "source": [
    "X_train_cv_2 = cvec.fit_transform(X_train) # must fit transform to numbers for train \n",
    "X_test_cv_2 = cvec.transform(X_test)       # must transform to number for test"
   ]
  },
  {
   "cell_type": "code",
   "execution_count": 23,
   "metadata": {},
   "outputs": [],
   "source": [
    "from project4_function import model_scores"
   ]
  },
  {
   "cell_type": "markdown",
   "metadata": {},
   "source": [
    "**Content only in the feature columns**"
   ]
  },
  {
   "cell_type": "code",
   "execution_count": 24,
   "metadata": {
    "scrolled": true
   },
   "outputs": [
    {
     "data": {
      "text/html": [
       "<div>\n",
       "<style scoped>\n",
       "    .dataframe tbody tr th:only-of-type {\n",
       "        vertical-align: middle;\n",
       "    }\n",
       "\n",
       "    .dataframe tbody tr th {\n",
       "        vertical-align: top;\n",
       "    }\n",
       "\n",
       "    .dataframe thead th {\n",
       "        text-align: right;\n",
       "    }\n",
       "</style>\n",
       "<table border=\"1\" class=\"dataframe\">\n",
       "  <thead>\n",
       "    <tr style=\"text-align: right;\">\n",
       "      <th></th>\n",
       "      <th>model</th>\n",
       "      <th>accuracy score</th>\n",
       "      <th>recall score</th>\n",
       "      <th>cv train score</th>\n",
       "      <th>cv test score</th>\n",
       "      <th>train score</th>\n",
       "      <th>test score</th>\n",
       "      <th>train-test gap</th>\n",
       "      <th>model status</th>\n",
       "      <th>bias vs variance</th>\n",
       "      <th>fit time</th>\n",
       "    </tr>\n",
       "  </thead>\n",
       "  <tbody>\n",
       "    <tr>\n",
       "      <th>0</th>\n",
       "      <td>LogisticRegression(C=1.0, class_weight=None, d...</td>\n",
       "      <td>0.743876</td>\n",
       "      <td>0.738473</td>\n",
       "      <td>0.748377</td>\n",
       "      <td>0.740298</td>\n",
       "      <td>0.992674</td>\n",
       "      <td>0.743876</td>\n",
       "      <td>0.248797</td>\n",
       "      <td>overfit</td>\n",
       "      <td>high variance</td>\n",
       "      <td>0.0</td>\n",
       "    </tr>\n",
       "    <tr>\n",
       "      <th>0</th>\n",
       "      <td>MultinomialNB(alpha=1.0, class_prior=None, fit...</td>\n",
       "      <td>0.782421</td>\n",
       "      <td>0.755043</td>\n",
       "      <td>0.790416</td>\n",
       "      <td>0.787117</td>\n",
       "      <td>0.831372</td>\n",
       "      <td>0.782421</td>\n",
       "      <td>0.048951</td>\n",
       "      <td>overfit</td>\n",
       "      <td>high variance</td>\n",
       "      <td>0.0</td>\n",
       "    </tr>\n",
       "  </tbody>\n",
       "</table>\n",
       "</div>"
      ],
      "text/plain": [
       "                                               model  accuracy score  \\\n",
       "0  LogisticRegression(C=1.0, class_weight=None, d...        0.743876   \n",
       "0  MultinomialNB(alpha=1.0, class_prior=None, fit...        0.782421   \n",
       "\n",
       "   recall score  cv train score  cv test score  train score  test score  \\\n",
       "0      0.738473        0.748377       0.740298     0.992674    0.743876   \n",
       "0      0.755043        0.790416       0.787117     0.831372    0.782421   \n",
       "\n",
       "   train-test gap model status bias vs variance  fit time  \n",
       "0        0.248797      overfit    high variance       0.0  \n",
       "0        0.048951      overfit    high variance       0.0  "
      ]
     },
     "execution_count": 24,
     "metadata": {},
     "output_type": "execute_result"
    }
   ],
   "source": [
    "# Content only in the feature columns\n",
    "lr  = LogisticRegression(random_state=0, solver='lbfgs')\n",
    "nb  = MultinomialNB()\n",
    "\n",
    "models = [lr,nb]\n",
    "score_matrix = pd.DataFrame() \n",
    "\n",
    "for i in models:\n",
    "    score_matrix = score_matrix.append(model_scores(i, X_train_cv_2, y_train, X_test_cv_2, y_test))\n",
    "score_matrix"
   ]
  },
  {
   "cell_type": "markdown",
   "metadata": {},
   "source": [
    "**Content + Description feature columns**"
   ]
  },
  {
   "cell_type": "code",
   "execution_count": 25,
   "metadata": {
    "scrolled": true
   },
   "outputs": [
    {
     "data": {
      "text/html": [
       "<div>\n",
       "<style scoped>\n",
       "    .dataframe tbody tr th:only-of-type {\n",
       "        vertical-align: middle;\n",
       "    }\n",
       "\n",
       "    .dataframe tbody tr th {\n",
       "        vertical-align: top;\n",
       "    }\n",
       "\n",
       "    .dataframe thead th {\n",
       "        text-align: right;\n",
       "    }\n",
       "</style>\n",
       "<table border=\"1\" class=\"dataframe\">\n",
       "  <thead>\n",
       "    <tr style=\"text-align: right;\">\n",
       "      <th></th>\n",
       "      <th>model</th>\n",
       "      <th>accuracy score</th>\n",
       "      <th>recall score</th>\n",
       "      <th>cv train score</th>\n",
       "      <th>cv test score</th>\n",
       "      <th>train score</th>\n",
       "      <th>test score</th>\n",
       "      <th>train-test gap</th>\n",
       "      <th>model status</th>\n",
       "      <th>bias vs variance</th>\n",
       "      <th>fit time</th>\n",
       "    </tr>\n",
       "  </thead>\n",
       "  <tbody>\n",
       "    <tr>\n",
       "      <th>0</th>\n",
       "      <td>LogisticRegression(C=1.0, class_weight=None, d...</td>\n",
       "      <td>0.747478</td>\n",
       "      <td>0.745677</td>\n",
       "      <td>0.753302</td>\n",
       "      <td>0.742094</td>\n",
       "      <td>0.993394</td>\n",
       "      <td>0.747478</td>\n",
       "      <td>0.245916</td>\n",
       "      <td>overfit</td>\n",
       "      <td>high variance</td>\n",
       "      <td>0.000000</td>\n",
       "    </tr>\n",
       "    <tr>\n",
       "      <th>0</th>\n",
       "      <td>MultinomialNB(alpha=1.0, class_prior=None, fit...</td>\n",
       "      <td>0.786744</td>\n",
       "      <td>0.765130</td>\n",
       "      <td>0.792217</td>\n",
       "      <td>0.790720</td>\n",
       "      <td>0.833173</td>\n",
       "      <td>0.786744</td>\n",
       "      <td>0.046430</td>\n",
       "      <td>overfit</td>\n",
       "      <td>high variance</td>\n",
       "      <td>0.000001</td>\n",
       "    </tr>\n",
       "  </tbody>\n",
       "</table>\n",
       "</div>"
      ],
      "text/plain": [
       "                                               model  accuracy score  \\\n",
       "0  LogisticRegression(C=1.0, class_weight=None, d...        0.747478   \n",
       "0  MultinomialNB(alpha=1.0, class_prior=None, fit...        0.786744   \n",
       "\n",
       "   recall score  cv train score  cv test score  train score  test score  \\\n",
       "0      0.745677        0.753302       0.742094     0.993394    0.747478   \n",
       "0      0.765130        0.792217       0.790720     0.833173    0.786744   \n",
       "\n",
       "   train-test gap model status bias vs variance  fit time  \n",
       "0        0.245916      overfit    high variance  0.000000  \n",
       "0        0.046430      overfit    high variance  0.000001  "
      ]
     },
     "execution_count": 25,
     "metadata": {},
     "output_type": "execute_result"
    }
   ],
   "source": [
    "# Content + Description feature columns\n",
    "models = [lr,nb]\n",
    "score_matrix = pd.DataFrame() \n",
    "for i in models:\n",
    "    score_matrix = score_matrix.append(model_scores(i, X_train_cv, y_train, X_test_cv, y_test))\n",
    "score_matrix"
   ]
  },
  {
   "cell_type": "markdown",
   "metadata": {},
   "source": [
    "# Term Frequency–Inverse Document Frequency (TFIDF)"
   ]
  },
  {
   "cell_type": "code",
   "execution_count": 26,
   "metadata": {},
   "outputs": [],
   "source": [
    "import pickle\n",
    "custom_stop_words_final = pickle.load( open( \"save.p\", \"rb\" ) )"
   ]
  },
  {
   "cell_type": "code",
   "execution_count": 27,
   "metadata": {},
   "outputs": [],
   "source": [
    "words_not_use = stopwords.words('english')\n",
    "\n",
    "words_not_use.extend(custom_stop_words_final)"
   ]
  },
  {
   "cell_type": "markdown",
   "metadata": {},
   "source": [
    "**Using the custom_stop_words_final**"
   ]
  },
  {
   "cell_type": "code",
   "execution_count": 28,
   "metadata": {},
   "outputs": [],
   "source": [
    "tvec = TfidfVectorizer(analyzer = \"word\",\n",
    "                             tokenizer = None,\n",
    "                             preprocessor = None,\n",
    "                             stop_words = words_not_use) \n",
    "\n",
    "X_train_tvec_sw = tvec.fit_transform(X_train)\n",
    "X_test_tvec_sw = tvec.transform(X_test)"
   ]
  },
  {
   "cell_type": "markdown",
   "metadata": {},
   "source": [
    "**Not using the custom_stop_words_final**"
   ]
  },
  {
   "cell_type": "code",
   "execution_count": 29,
   "metadata": {},
   "outputs": [],
   "source": [
    "tvec = TfidfVectorizer(analyzer = \"word\",\n",
    "                             tokenizer = None,\n",
    "                             preprocessor = None,\n",
    "                             stop_words = 'english')\n",
    "\n",
    "X_train_tvec_nsw = tvec.fit_transform(X_train)\n",
    "X_test_tvec_nsw = tvec.transform(X_test)"
   ]
  },
  {
   "cell_type": "markdown",
   "metadata": {},
   "source": [
    "**Ngram: Include 1-grams and 2-grams.**"
   ]
  },
  {
   "cell_type": "code",
   "execution_count": 30,
   "metadata": {},
   "outputs": [],
   "source": [
    "tvec = TfidfVectorizer(analyzer = \"word\",\n",
    "                             tokenizer = None,\n",
    "                             preprocessor = None,\n",
    "                             stop_words = words_not_use, \n",
    "                             ngram_range=(1, 2)) \n",
    "\n",
    "X_train_tvec_n = tvec.fit_transform(X_train)\n",
    "X_test_tvec_n = tvec.transform(X_test)\n",
    "\n"
   ]
  },
  {
   "cell_type": "markdown",
   "metadata": {},
   "source": [
    "**Ngram: Include 1-grams and 3-grams**"
   ]
  },
  {
   "cell_type": "code",
   "execution_count": 31,
   "metadata": {},
   "outputs": [],
   "source": [
    "tvec = TfidfVectorizer(analyzer = \"word\",\n",
    "                             tokenizer = None,\n",
    "                             preprocessor = None,\n",
    "                             stop_words = words_not_use, \n",
    "                             ngram_range=(1, 3)) \n",
    "\n",
    "X_train_tvec_n3 = tvec.fit_transform(X_train)\n",
    "X_test_tvec_n3 = tvec.transform(X_test)"
   ]
  },
  {
   "cell_type": "markdown",
   "metadata": {},
   "source": [
    "**TFIDF with min, max**"
   ]
  },
  {
   "cell_type": "code",
   "execution_count": 32,
   "metadata": {},
   "outputs": [],
   "source": [
    "tfidf = TfidfVectorizer(stop_words=('english'), \n",
    "                        min_df=1, \n",
    "                        max_df=2)\n",
    "\n",
    "# Fitting and transforming the data\n",
    "X_train_tf = tfidf.fit_transform(X_train)\n",
    "X_test_tf = tfidf.transform(X_test)"
   ]
  },
  {
   "cell_type": "markdown",
   "metadata": {},
   "source": [
    "# Models Testing"
   ]
  },
  {
   "cell_type": "markdown",
   "metadata": {},
   "source": [
    "We try to finalize which models would be a good fit, embedded with a combination of features "
   ]
  },
  {
   "cell_type": "code",
   "execution_count": 33,
   "metadata": {},
   "outputs": [],
   "source": [
    "from project4_function import model_scores\n",
    "\n",
    "lr  = LogisticRegression(random_state=0, solver='lbfgs')\n",
    "nb  = MultinomialNB()"
   ]
  },
  {
   "cell_type": "code",
   "execution_count": 34,
   "metadata": {},
   "outputs": [
    {
     "data": {
      "text/html": [
       "<div>\n",
       "<style scoped>\n",
       "    .dataframe tbody tr th:only-of-type {\n",
       "        vertical-align: middle;\n",
       "    }\n",
       "\n",
       "    .dataframe tbody tr th {\n",
       "        vertical-align: top;\n",
       "    }\n",
       "\n",
       "    .dataframe thead th {\n",
       "        text-align: right;\n",
       "    }\n",
       "</style>\n",
       "<table border=\"1\" class=\"dataframe\">\n",
       "  <thead>\n",
       "    <tr style=\"text-align: right;\">\n",
       "      <th></th>\n",
       "      <th>model</th>\n",
       "      <th>accuracy score</th>\n",
       "      <th>recall score</th>\n",
       "      <th>cv train score</th>\n",
       "      <th>cv test score</th>\n",
       "      <th>train score</th>\n",
       "      <th>test score</th>\n",
       "      <th>train-test gap</th>\n",
       "      <th>model status</th>\n",
       "      <th>bias vs variance</th>\n",
       "      <th>fit time</th>\n",
       "    </tr>\n",
       "  </thead>\n",
       "  <tbody>\n",
       "    <tr>\n",
       "      <th>0</th>\n",
       "      <td>LogisticRegression(C=1.0, class_weight=None, d...</td>\n",
       "      <td>0.795029</td>\n",
       "      <td>0.743516</td>\n",
       "      <td>0.793056</td>\n",
       "      <td>0.789287</td>\n",
       "      <td>0.852991</td>\n",
       "      <td>0.795029</td>\n",
       "      <td>0.057962</td>\n",
       "      <td>overfit</td>\n",
       "      <td>high variance</td>\n",
       "      <td>9.536743e-07</td>\n",
       "    </tr>\n",
       "    <tr>\n",
       "      <th>0</th>\n",
       "      <td>MultinomialNB(alpha=1.0, class_prior=None, fit...</td>\n",
       "      <td>0.785663</td>\n",
       "      <td>0.775937</td>\n",
       "      <td>0.786933</td>\n",
       "      <td>0.776668</td>\n",
       "      <td>0.822844</td>\n",
       "      <td>0.785663</td>\n",
       "      <td>0.037181</td>\n",
       "      <td>overfit</td>\n",
       "      <td>high variance</td>\n",
       "      <td>0.000000e+00</td>\n",
       "    </tr>\n",
       "  </tbody>\n",
       "</table>\n",
       "</div>"
      ],
      "text/plain": [
       "                                               model  accuracy score  \\\n",
       "0  LogisticRegression(C=1.0, class_weight=None, d...        0.795029   \n",
       "0  MultinomialNB(alpha=1.0, class_prior=None, fit...        0.785663   \n",
       "\n",
       "   recall score  cv train score  cv test score  train score  test score  \\\n",
       "0      0.743516        0.793056       0.789287     0.852991    0.795029   \n",
       "0      0.775937        0.786933       0.776668     0.822844    0.785663   \n",
       "\n",
       "   train-test gap model status bias vs variance      fit time  \n",
       "0        0.057962      overfit    high variance  9.536743e-07  \n",
       "0        0.037181      overfit    high variance  0.000000e+00  "
      ]
     },
     "execution_count": 34,
     "metadata": {},
     "output_type": "execute_result"
    }
   ],
   "source": [
    "#Using the custom_stop_words_final\n",
    "models = [lr,nb]\n",
    "score_matrix = pd.DataFrame() \n",
    "\n",
    "for i in models:\n",
    "    score_matrix = score_matrix.append(model_scores(i, X_train_tvec_sw, y_train, X_test_tvec_sw, y_test))\n",
    "score_matrix"
   ]
  },
  {
   "cell_type": "code",
   "execution_count": 35,
   "metadata": {
    "scrolled": true
   },
   "outputs": [
    {
     "data": {
      "text/html": [
       "<div>\n",
       "<style scoped>\n",
       "    .dataframe tbody tr th:only-of-type {\n",
       "        vertical-align: middle;\n",
       "    }\n",
       "\n",
       "    .dataframe tbody tr th {\n",
       "        vertical-align: top;\n",
       "    }\n",
       "\n",
       "    .dataframe thead th {\n",
       "        text-align: right;\n",
       "    }\n",
       "</style>\n",
       "<table border=\"1\" class=\"dataframe\">\n",
       "  <thead>\n",
       "    <tr style=\"text-align: right;\">\n",
       "      <th></th>\n",
       "      <th>model</th>\n",
       "      <th>accuracy score</th>\n",
       "      <th>recall score</th>\n",
       "      <th>cv train score</th>\n",
       "      <th>cv test score</th>\n",
       "      <th>train score</th>\n",
       "      <th>test score</th>\n",
       "      <th>train-test gap</th>\n",
       "      <th>model status</th>\n",
       "      <th>bias vs variance</th>\n",
       "      <th>fit time</th>\n",
       "    </tr>\n",
       "  </thead>\n",
       "  <tbody>\n",
       "    <tr>\n",
       "      <th>0</th>\n",
       "      <td>LogisticRegression(C=1.0, class_weight=None, d...</td>\n",
       "      <td>0.798631</td>\n",
       "      <td>0.746398</td>\n",
       "      <td>0.797143</td>\n",
       "      <td>0.790723</td>\n",
       "      <td>0.852390</td>\n",
       "      <td>0.798631</td>\n",
       "      <td>0.053759</td>\n",
       "      <td>overfit</td>\n",
       "      <td>high variance</td>\n",
       "      <td>0.000001</td>\n",
       "    </tr>\n",
       "    <tr>\n",
       "      <th>0</th>\n",
       "      <td>MultinomialNB(alpha=1.0, class_prior=None, fit...</td>\n",
       "      <td>0.785663</td>\n",
       "      <td>0.785303</td>\n",
       "      <td>0.788133</td>\n",
       "      <td>0.774867</td>\n",
       "      <td>0.823925</td>\n",
       "      <td>0.785663</td>\n",
       "      <td>0.038262</td>\n",
       "      <td>overfit</td>\n",
       "      <td>high variance</td>\n",
       "      <td>0.000000</td>\n",
       "    </tr>\n",
       "  </tbody>\n",
       "</table>\n",
       "</div>"
      ],
      "text/plain": [
       "                                               model  accuracy score  \\\n",
       "0  LogisticRegression(C=1.0, class_weight=None, d...        0.798631   \n",
       "0  MultinomialNB(alpha=1.0, class_prior=None, fit...        0.785663   \n",
       "\n",
       "   recall score  cv train score  cv test score  train score  test score  \\\n",
       "0      0.746398        0.797143       0.790723     0.852390    0.798631   \n",
       "0      0.785303        0.788133       0.774867     0.823925    0.785663   \n",
       "\n",
       "   train-test gap model status bias vs variance  fit time  \n",
       "0        0.053759      overfit    high variance  0.000001  \n",
       "0        0.038262      overfit    high variance  0.000000  "
      ]
     },
     "execution_count": 35,
     "metadata": {},
     "output_type": "execute_result"
    }
   ],
   "source": [
    "#Not Using the custom_stop_words_final\n",
    "models = [lr,nb]\n",
    "score_matrix = pd.DataFrame() \n",
    "\n",
    "for i in models:\n",
    "    score_matrix = score_matrix.append(model_scores(i, X_train_tvec_nsw, y_train, X_test_tvec_nsw, y_test))\n",
    "score_matrix"
   ]
  },
  {
   "cell_type": "code",
   "execution_count": 36,
   "metadata": {},
   "outputs": [
    {
     "data": {
      "text/html": [
       "<div>\n",
       "<style scoped>\n",
       "    .dataframe tbody tr th:only-of-type {\n",
       "        vertical-align: middle;\n",
       "    }\n",
       "\n",
       "    .dataframe tbody tr th {\n",
       "        vertical-align: top;\n",
       "    }\n",
       "\n",
       "    .dataframe thead th {\n",
       "        text-align: right;\n",
       "    }\n",
       "</style>\n",
       "<table border=\"1\" class=\"dataframe\">\n",
       "  <thead>\n",
       "    <tr style=\"text-align: right;\">\n",
       "      <th></th>\n",
       "      <th>model</th>\n",
       "      <th>accuracy score</th>\n",
       "      <th>recall score</th>\n",
       "      <th>cv train score</th>\n",
       "      <th>cv test score</th>\n",
       "      <th>train score</th>\n",
       "      <th>test score</th>\n",
       "      <th>train-test gap</th>\n",
       "      <th>model status</th>\n",
       "      <th>bias vs variance</th>\n",
       "      <th>fit time</th>\n",
       "    </tr>\n",
       "  </thead>\n",
       "  <tbody>\n",
       "    <tr>\n",
       "      <th>0</th>\n",
       "      <td>LogisticRegression(C=1.0, class_weight=None, d...</td>\n",
       "      <td>0.796110</td>\n",
       "      <td>0.756484</td>\n",
       "      <td>0.791135</td>\n",
       "      <td>0.788570</td>\n",
       "      <td>0.870766</td>\n",
       "      <td>0.796110</td>\n",
       "      <td>0.074657</td>\n",
       "      <td>overfit</td>\n",
       "      <td>high variance</td>\n",
       "      <td>0.0</td>\n",
       "    </tr>\n",
       "    <tr>\n",
       "      <th>0</th>\n",
       "      <td>MultinomialNB(alpha=1.0, class_prior=None, fit...</td>\n",
       "      <td>0.785303</td>\n",
       "      <td>0.788184</td>\n",
       "      <td>0.789695</td>\n",
       "      <td>0.783152</td>\n",
       "      <td>0.875811</td>\n",
       "      <td>0.785303</td>\n",
       "      <td>0.090508</td>\n",
       "      <td>overfit</td>\n",
       "      <td>high variance</td>\n",
       "      <td>0.0</td>\n",
       "    </tr>\n",
       "  </tbody>\n",
       "</table>\n",
       "</div>"
      ],
      "text/plain": [
       "                                               model  accuracy score  \\\n",
       "0  LogisticRegression(C=1.0, class_weight=None, d...        0.796110   \n",
       "0  MultinomialNB(alpha=1.0, class_prior=None, fit...        0.785303   \n",
       "\n",
       "   recall score  cv train score  cv test score  train score  test score  \\\n",
       "0      0.756484        0.791135       0.788570     0.870766    0.796110   \n",
       "0      0.788184        0.789695       0.783152     0.875811    0.785303   \n",
       "\n",
       "   train-test gap model status bias vs variance  fit time  \n",
       "0        0.074657      overfit    high variance       0.0  \n",
       "0        0.090508      overfit    high variance       0.0  "
      ]
     },
     "execution_count": 36,
     "metadata": {},
     "output_type": "execute_result"
    }
   ],
   "source": [
    "# Ngram: gram_range=(1, 2)\n",
    "models = [lr,nb]\n",
    "score_matrix = pd.DataFrame() \n",
    "\n",
    "for i in models:\n",
    "    score_matrix = score_matrix.append(model_scores(i, X_train_tvec_n, y_train, X_test_tvec_n, y_test))\n",
    "score_matrix"
   ]
  },
  {
   "cell_type": "code",
   "execution_count": 37,
   "metadata": {},
   "outputs": [
    {
     "data": {
      "text/html": [
       "<div>\n",
       "<style scoped>\n",
       "    .dataframe tbody tr th:only-of-type {\n",
       "        vertical-align: middle;\n",
       "    }\n",
       "\n",
       "    .dataframe tbody tr th {\n",
       "        vertical-align: top;\n",
       "    }\n",
       "\n",
       "    .dataframe thead th {\n",
       "        text-align: right;\n",
       "    }\n",
       "</style>\n",
       "<table border=\"1\" class=\"dataframe\">\n",
       "  <thead>\n",
       "    <tr style=\"text-align: right;\">\n",
       "      <th></th>\n",
       "      <th>model</th>\n",
       "      <th>accuracy score</th>\n",
       "      <th>recall score</th>\n",
       "      <th>cv train score</th>\n",
       "      <th>cv test score</th>\n",
       "      <th>train score</th>\n",
       "      <th>test score</th>\n",
       "      <th>train-test gap</th>\n",
       "      <th>model status</th>\n",
       "      <th>bias vs variance</th>\n",
       "      <th>fit time</th>\n",
       "    </tr>\n",
       "  </thead>\n",
       "  <tbody>\n",
       "    <tr>\n",
       "      <th>0</th>\n",
       "      <td>LogisticRegression(C=1.0, class_weight=None, d...</td>\n",
       "      <td>0.790346</td>\n",
       "      <td>0.760807</td>\n",
       "      <td>0.790294</td>\n",
       "      <td>0.792166</td>\n",
       "      <td>0.880495</td>\n",
       "      <td>0.790346</td>\n",
       "      <td>0.090149</td>\n",
       "      <td>overfit</td>\n",
       "      <td>high variance</td>\n",
       "      <td>0.0</td>\n",
       "    </tr>\n",
       "    <tr>\n",
       "      <th>0</th>\n",
       "      <td>MultinomialNB(alpha=1.0, class_prior=None, fit...</td>\n",
       "      <td>0.787104</td>\n",
       "      <td>0.781700</td>\n",
       "      <td>0.790655</td>\n",
       "      <td>0.789277</td>\n",
       "      <td>0.910401</td>\n",
       "      <td>0.787104</td>\n",
       "      <td>0.123297</td>\n",
       "      <td>overfit</td>\n",
       "      <td>high variance</td>\n",
       "      <td>0.0</td>\n",
       "    </tr>\n",
       "  </tbody>\n",
       "</table>\n",
       "</div>"
      ],
      "text/plain": [
       "                                               model  accuracy score  \\\n",
       "0  LogisticRegression(C=1.0, class_weight=None, d...        0.790346   \n",
       "0  MultinomialNB(alpha=1.0, class_prior=None, fit...        0.787104   \n",
       "\n",
       "   recall score  cv train score  cv test score  train score  test score  \\\n",
       "0      0.760807        0.790294       0.792166     0.880495    0.790346   \n",
       "0      0.781700        0.790655       0.789277     0.910401    0.787104   \n",
       "\n",
       "   train-test gap model status bias vs variance  fit time  \n",
       "0        0.090149      overfit    high variance       0.0  \n",
       "0        0.123297      overfit    high variance       0.0  "
      ]
     },
     "execution_count": 37,
     "metadata": {},
     "output_type": "execute_result"
    }
   ],
   "source": [
    "# Ngram: gram_range=(1, 3)\n",
    "models = [lr,nb]\n",
    "score_matrix = pd.DataFrame() \n",
    "\n",
    "for i in models:\n",
    "    score_matrix = score_matrix.append(model_scores(i, X_train_tvec_n3, y_train, X_test_tvec_n3, y_test))\n",
    "score_matrix"
   ]
  },
  {
   "cell_type": "code",
   "execution_count": 38,
   "metadata": {
    "scrolled": false
   },
   "outputs": [
    {
     "data": {
      "text/html": [
       "<div>\n",
       "<style scoped>\n",
       "    .dataframe tbody tr th:only-of-type {\n",
       "        vertical-align: middle;\n",
       "    }\n",
       "\n",
       "    .dataframe tbody tr th {\n",
       "        vertical-align: top;\n",
       "    }\n",
       "\n",
       "    .dataframe thead th {\n",
       "        text-align: right;\n",
       "    }\n",
       "</style>\n",
       "<table border=\"1\" class=\"dataframe\">\n",
       "  <thead>\n",
       "    <tr style=\"text-align: right;\">\n",
       "      <th></th>\n",
       "      <th>model</th>\n",
       "      <th>accuracy score</th>\n",
       "      <th>recall score</th>\n",
       "      <th>cv train score</th>\n",
       "      <th>cv test score</th>\n",
       "      <th>train score</th>\n",
       "      <th>test score</th>\n",
       "      <th>train-test gap</th>\n",
       "      <th>model status</th>\n",
       "      <th>bias vs variance</th>\n",
       "      <th>fit time</th>\n",
       "    </tr>\n",
       "  </thead>\n",
       "  <tbody>\n",
       "    <tr>\n",
       "      <th>0</th>\n",
       "      <td>LogisticRegression(C=1.0, class_weight=None, d...</td>\n",
       "      <td>0.670029</td>\n",
       "      <td>0.742795</td>\n",
       "      <td>0.588762</td>\n",
       "      <td>0.586817</td>\n",
       "      <td>0.955080</td>\n",
       "      <td>0.670029</td>\n",
       "      <td>0.285052</td>\n",
       "      <td>overfit</td>\n",
       "      <td>high variance</td>\n",
       "      <td>0.0</td>\n",
       "    </tr>\n",
       "    <tr>\n",
       "      <th>0</th>\n",
       "      <td>MultinomialNB(alpha=1.0, class_prior=None, fit...</td>\n",
       "      <td>0.594741</td>\n",
       "      <td>0.484150</td>\n",
       "      <td>0.517176</td>\n",
       "      <td>0.543946</td>\n",
       "      <td>0.893466</td>\n",
       "      <td>0.594741</td>\n",
       "      <td>0.298726</td>\n",
       "      <td>overfit</td>\n",
       "      <td>high variance</td>\n",
       "      <td>0.0</td>\n",
       "    </tr>\n",
       "  </tbody>\n",
       "</table>\n",
       "</div>"
      ],
      "text/plain": [
       "                                               model  accuracy score  \\\n",
       "0  LogisticRegression(C=1.0, class_weight=None, d...        0.670029   \n",
       "0  MultinomialNB(alpha=1.0, class_prior=None, fit...        0.594741   \n",
       "\n",
       "   recall score  cv train score  cv test score  train score  test score  \\\n",
       "0      0.742795        0.588762       0.586817     0.955080    0.670029   \n",
       "0      0.484150        0.517176       0.543946     0.893466    0.594741   \n",
       "\n",
       "   train-test gap model status bias vs variance  fit time  \n",
       "0        0.285052      overfit    high variance       0.0  \n",
       "0        0.298726      overfit    high variance       0.0  "
      ]
     },
     "execution_count": 38,
     "metadata": {},
     "output_type": "execute_result"
    }
   ],
   "source": [
    "#TFIDF with min, max\n",
    "models = [lr,nb]\n",
    "score_matrix = pd.DataFrame() \n",
    "\n",
    "for i in models:\n",
    "    score_matrix = score_matrix.append(model_scores(i, X_train_tf, y_train, X_test_tf, y_test))\n",
    "score_matrix"
   ]
  },
  {
   "cell_type": "markdown",
   "metadata": {},
   "source": [
    "# Word Count"
   ]
  },
  {
   "cell_type": "markdown",
   "metadata": {},
   "source": [
    "We found out that disaster news reports has more words than non-disaster news"
   ]
  },
  {
   "cell_type": "code",
   "execution_count": 39,
   "metadata": {},
   "outputs": [],
   "source": [
    "df['word_count'] = df['content'].apply(lambda x: len(str(x).split()))"
   ]
  },
  {
   "cell_type": "code",
   "execution_count": 40,
   "metadata": {},
   "outputs": [
    {
     "name": "stdout",
     "output_type": "stream",
     "text": [
      "disaster_mean:  576.3968654296523\n",
      "nondisaster_mean:  682.4121779859485\n"
     ]
    }
   ],
   "source": [
    "disaster_mean = df[df.yes_disaster==1]['word_count'].mean()\n",
    "nondisaster_mean = df[df.yes_disaster==0]['word_count'].mean()\n",
    "print ('disaster_mean: ', disaster_mean)\n",
    "print('nondisaster_mean: ' ,nondisaster_mean)"
   ]
  },
  {
   "cell_type": "code",
   "execution_count": 41,
   "metadata": {
    "scrolled": false
   },
   "outputs": [
    {
     "data": {
      "image/png": "[encoded data removed]",
      "text/plain": [
       "<Figure size 1296x720 with 1 Axes>"
      ]
     },
     "metadata": {
      "needs_background": "light"
     },
     "output_type": "display_data"
    }
   ],
   "source": [
    "plt.figure(figsize=(18,10))\n",
    "\n",
    "plt.hist([df[df['yes_disaster']==1]['word_count'], \n",
    "          df[df['yes_disaster']==0]['word_count']],\n",
    "         \n",
    "         bins=20, color=['goldenrod', 'grey'], range=[5, 1000], ec='k')\n",
    "\n",
    "plt.xlabel ('Words Count per post', fontsize=15)\n",
    "plt.ylabel ('Num of News', fontsize=15)\n",
    "\n",
    "plt.legend(['disaster=1', 'disaster=0'], fontsize=15)\n",
    "\n",
    "disaster_mean = df[df.yes_disaster==1]['word_count'].mean()\n",
    "nondisaster_mean = df[df.yes_disaster==0]['word_count'].mean()\n",
    "\n",
    "plt.axvline(x = disaster_mean,\n",
    "            color ='grey',linestyle='--', linewidth=5, \n",
    "            label ='disaster_mean')\n",
    "\n",
    "plt.axvline(x = nondisaster_mean, \n",
    "            color = 'goldenrod', linestyle='--', \n",
    "            label = 'nondisaster_mean',\n",
    "            linewidth=5)\n",
    "\n",
    "plt.text(disaster_mean+2, 350, 'Word count average for Disaster news', fontsize=15)\n",
    "plt.text(nondisaster_mean+5, 300, 'Word count average for non-disaster news', fontsize=15, )\n",
    "\n",
    "plt.title('Word Counts per News by Class', fontsize=20)\n",
    "plt.tick_params(labelsize=20); "
   ]
  },
  {
   "cell_type": "markdown",
   "metadata": {},
   "source": [
    "# Model Scores"
   ]
  },
  {
   "cell_type": "markdown",
   "metadata": {},
   "source": [
    "Below models are ran with Count Vectorizer as a preliminary evaluation on performance"
   ]
  },
  {
   "cell_type": "code",
   "execution_count": 42,
   "metadata": {},
   "outputs": [
    {
     "data": {
      "text/html": [
       "<div>\n",
       "<style scoped>\n",
       "    .dataframe tbody tr th:only-of-type {\n",
       "        vertical-align: middle;\n",
       "    }\n",
       "\n",
       "    .dataframe tbody tr th {\n",
       "        vertical-align: top;\n",
       "    }\n",
       "\n",
       "    .dataframe thead th {\n",
       "        text-align: right;\n",
       "    }\n",
       "</style>\n",
       "<table border=\"1\" class=\"dataframe\">\n",
       "  <thead>\n",
       "    <tr style=\"text-align: right;\">\n",
       "      <th></th>\n",
       "      <th>model</th>\n",
       "      <th>model_abr</th>\n",
       "      <th>accuracy score</th>\n",
       "      <th>recall score</th>\n",
       "      <th>cv train score</th>\n",
       "      <th>cv test score</th>\n",
       "      <th>train score</th>\n",
       "      <th>test score</th>\n",
       "      <th>train-test gap</th>\n",
       "      <th>model status</th>\n",
       "      <th>bias vs variance</th>\n",
       "      <th>fit time</th>\n",
       "    </tr>\n",
       "  </thead>\n",
       "  <tbody>\n",
       "    <tr>\n",
       "      <th>0</th>\n",
       "      <td>LogisticRegression</td>\n",
       "      <td>LR</td>\n",
       "      <td>0.747478</td>\n",
       "      <td>0.745677</td>\n",
       "      <td>0.753302</td>\n",
       "      <td>0.742094</td>\n",
       "      <td>0.993394</td>\n",
       "      <td>0.747478</td>\n",
       "      <td>0.245916</td>\n",
       "      <td>overfit</td>\n",
       "      <td>high variance</td>\n",
       "      <td>0.000000e+00</td>\n",
       "    </tr>\n",
       "    <tr>\n",
       "      <th>1</th>\n",
       "      <td>MultinomialNB</td>\n",
       "      <td>NB</td>\n",
       "      <td>0.786744</td>\n",
       "      <td>0.765130</td>\n",
       "      <td>0.792217</td>\n",
       "      <td>0.790720</td>\n",
       "      <td>0.833173</td>\n",
       "      <td>0.786744</td>\n",
       "      <td>0.046430</td>\n",
       "      <td>overfit</td>\n",
       "      <td>high variance</td>\n",
       "      <td>0.000000e+00</td>\n",
       "    </tr>\n",
       "    <tr>\n",
       "      <th>2</th>\n",
       "      <td>KNeighborsClassifier</td>\n",
       "      <td>KNN</td>\n",
       "      <td>0.721437</td>\n",
       "      <td>0.738250</td>\n",
       "      <td>0.708981</td>\n",
       "      <td>0.710755</td>\n",
       "      <td>0.749427</td>\n",
       "      <td>0.721437</td>\n",
       "      <td>0.027990</td>\n",
       "      <td>overfit</td>\n",
       "      <td>high variance</td>\n",
       "      <td>9.540000e-07</td>\n",
       "    </tr>\n",
       "    <tr>\n",
       "      <th>3</th>\n",
       "      <td>DecisionTreeClassifier</td>\n",
       "      <td>DT</td>\n",
       "      <td>0.719335</td>\n",
       "      <td>0.700802</td>\n",
       "      <td>0.706688</td>\n",
       "      <td>0.692389</td>\n",
       "      <td>0.929490</td>\n",
       "      <td>0.719335</td>\n",
       "      <td>0.210155</td>\n",
       "      <td>overfit</td>\n",
       "      <td>high variance</td>\n",
       "      <td>0.000000e+00</td>\n",
       "    </tr>\n",
       "    <tr>\n",
       "      <th>4</th>\n",
       "      <td>RandomForestClassifier</td>\n",
       "      <td>RF</td>\n",
       "      <td>0.747421</td>\n",
       "      <td>0.724876</td>\n",
       "      <td>0.733312</td>\n",
       "      <td>0.729837</td>\n",
       "      <td>0.920191</td>\n",
       "      <td>0.747421</td>\n",
       "      <td>0.172770</td>\n",
       "      <td>overfit</td>\n",
       "      <td>high variance</td>\n",
       "      <td>0.000000e+00</td>\n",
       "    </tr>\n",
       "    <tr>\n",
       "      <th>5</th>\n",
       "      <td>ExtraTreeClassifier</td>\n",
       "      <td>ET</td>\n",
       "      <td>0.748567</td>\n",
       "      <td>0.694689</td>\n",
       "      <td>0.737643</td>\n",
       "      <td>0.745891</td>\n",
       "      <td>0.929490</td>\n",
       "      <td>0.748567</td>\n",
       "      <td>0.180923</td>\n",
       "      <td>overfit</td>\n",
       "      <td>high variance</td>\n",
       "      <td>0.000000e+00</td>\n",
       "    </tr>\n",
       "    <tr>\n",
       "      <th>6</th>\n",
       "      <td>AdaBoostClassifier</td>\n",
       "      <td>AB</td>\n",
       "      <td>0.774551</td>\n",
       "      <td>0.764234</td>\n",
       "      <td>0.758854</td>\n",
       "      <td>0.747985</td>\n",
       "      <td>0.775541</td>\n",
       "      <td>0.774551</td>\n",
       "      <td>0.000990</td>\n",
       "      <td>overfit</td>\n",
       "      <td>high variance</td>\n",
       "      <td>0.000000e+00</td>\n",
       "    </tr>\n",
       "    <tr>\n",
       "      <th>7</th>\n",
       "      <td>GradientBoostingClassifier</td>\n",
       "      <td>GB</td>\n",
       "      <td>0.785632</td>\n",
       "      <td>0.772258</td>\n",
       "      <td>0.774459</td>\n",
       "      <td>0.776078</td>\n",
       "      <td>0.794459</td>\n",
       "      <td>0.785632</td>\n",
       "      <td>0.008826</td>\n",
       "      <td>overfit</td>\n",
       "      <td>high variance</td>\n",
       "      <td>0.000000e+00</td>\n",
       "    </tr>\n",
       "    <tr>\n",
       "      <th>8</th>\n",
       "      <td>SVC</td>\n",
       "      <td>SVC</td>\n",
       "      <td>0.724685</td>\n",
       "      <td>0.752006</td>\n",
       "      <td>0.711083</td>\n",
       "      <td>0.704240</td>\n",
       "      <td>0.924777</td>\n",
       "      <td>0.724685</td>\n",
       "      <td>0.200092</td>\n",
       "      <td>overfit</td>\n",
       "      <td>high variance</td>\n",
       "      <td>7.150000e-07</td>\n",
       "    </tr>\n",
       "  </tbody>\n",
       "</table>\n",
       "</div>"
      ],
      "text/plain": [
       "                        model model_abr  accuracy score  recall score  \\\n",
       "0          LogisticRegression        LR        0.747478      0.745677   \n",
       "1               MultinomialNB        NB        0.786744      0.765130   \n",
       "2        KNeighborsClassifier       KNN        0.721437      0.738250   \n",
       "3      DecisionTreeClassifier        DT        0.719335      0.700802   \n",
       "4      RandomForestClassifier        RF        0.747421      0.724876   \n",
       "5         ExtraTreeClassifier        ET        0.748567      0.694689   \n",
       "6          AdaBoostClassifier        AB        0.774551      0.764234   \n",
       "7  GradientBoostingClassifier        GB        0.785632      0.772258   \n",
       "8                         SVC       SVC        0.724685      0.752006   \n",
       "\n",
       "   cv train score  cv test score  train score  test score  train-test gap  \\\n",
       "0        0.753302       0.742094     0.993394    0.747478        0.245916   \n",
       "1        0.792217       0.790720     0.833173    0.786744        0.046430   \n",
       "2        0.708981       0.710755     0.749427    0.721437        0.027990   \n",
       "3        0.706688       0.692389     0.929490    0.719335        0.210155   \n",
       "4        0.733312       0.729837     0.920191    0.747421        0.172770   \n",
       "5        0.737643       0.745891     0.929490    0.748567        0.180923   \n",
       "6        0.758854       0.747985     0.775541    0.774551        0.000990   \n",
       "7        0.774459       0.776078     0.794459    0.785632        0.008826   \n",
       "8        0.711083       0.704240     0.924777    0.724685        0.200092   \n",
       "\n",
       "  model status bias vs variance      fit time  \n",
       "0      overfit    high variance  0.000000e+00  \n",
       "1      overfit    high variance  0.000000e+00  \n",
       "2      overfit    high variance  9.540000e-07  \n",
       "3      overfit    high variance  0.000000e+00  \n",
       "4      overfit    high variance  0.000000e+00  \n",
       "5      overfit    high variance  0.000000e+00  \n",
       "6      overfit    high variance  0.000000e+00  \n",
       "7      overfit    high variance  0.000000e+00  \n",
       "8      overfit    high variance  7.150000e-07  "
      ]
     },
     "execution_count": 42,
     "metadata": {},
     "output_type": "execute_result"
    }
   ],
   "source": [
    "results_table = pd.read_csv('../data/model_scores.csv')\n",
    "results_table"
   ]
  },
  {
   "cell_type": "code",
   "execution_count": 44,
   "metadata": {},
   "outputs": [
    {
     "name": "stdout",
     "output_type": "stream",
     "text": [
      "\n"
     ]
    },
    {
     "data": {
      "image/png": "[encoded data removed]",
      "text/plain": [
       "<Figure size 1152x288 with 2 Axes>"
      ]
     },
     "metadata": {
      "needs_background": "light"
     },
     "output_type": "display_data"
    }
   ],
   "source": [
    "fig, ax = plt.subplots(nrows=1, ncols=2, figsize=(16,4))\n",
    "ax      = ax.ravel()\n",
    "plt.subplots_adjust(bottom=0.00, top=1.00)\n",
    "\n",
    "ax[0].bar(results_table.model_abr, results_table['train score'], color='grey', alpha=1.00)\n",
    "ax[0].bar(results_table.model_abr, results_table['test score'], color='goldenrod', alpha=.75)\n",
    "\n",
    "ax[0].set_title('Nine Model Results:  Train and Test Accuracies', fontsize=18)\n",
    "ax[0].set_xlabel('Classification Models Fitted', fontsize=15)\n",
    "ax[0].set_ylabel('Model Fitting Scores', fontsize=15)\n",
    "ax[0].set_xticklabels(labels=results_table.model_abr, fontsize=15)\n",
    "ax[0].legend(['Train score', 'Test score'], loc=7, fontsize=15)\n",
    "\n",
    "\n",
    "ax[1].bar(results_table.model_abr, results_table['accuracy score'], color='darkred', alpha=1.00)\n",
    "ax[1].bar(results_table.model_abr, results_table['recall score'], color='grey', alpha=.75)\n",
    "\n",
    "\n",
    "ax[1].set_title('Nine Model Results: Accuracy and Recall Score', fontsize=18)\n",
    "ax[1].set_xlabel('Classification Models Fitted', fontsize=15)\n",
    "ax[1].set_ylabel('Accuracy Score', fontsize=15)\n",
    "ax[1].set_xticklabels(labels=results_table.model_abr, fontsize=15)\n",
    "ax[1].legend(['accuracy score', 'recall score'], loc=7, fontsize=15)\n",
    "\n",
    "\n",
    "print()\n",
    "plt.show();"
   ]
  },
  {
   "cell_type": "code",
   "execution_count": null,
   "metadata": {},
   "outputs": [],
   "source": []
  }
 ],
 "metadata": {
  "kernelspec": {
   "display_name": "Python 3",
   "language": "python",
   "name": "python3"
  },
  "language_info": {
   "codemirror_mode": {
    "name": "ipython",
    "version": 3
   },
   "file_extension": ".py",
   "mimetype": "text/x-python",
   "name": "python",
   "nbconvert_exporter": "python",
   "pygments_lexer": "ipython3",
   "version": "3.7.1"
  },
  "toc": {
   "base_numbering": 1,
   "nav_menu": {},
   "number_sections": true,
   "sideBar": true,
   "skip_h1_title": false,
   "title_cell": "Table of Contents",
   "title_sidebar": "Contents",
   "toc_cell": true,
   "toc_position": {
    "height": "calc(100% - 180px)",
    "left": "10px",
    "top": "150px",
    "width": "363.4583435058594px"
   },
   "toc_section_display": true,
   "toc_window_display": true
  },
  "varInspector": {
   "cols": {
    "lenName": 16,
    "lenType": 16,
    "lenVar": 40
   },
   "kernels_config": {
    "python": {
     "delete_cmd_postfix": "",
     "delete_cmd_prefix": "del ",
     "library": "var_list.py",
     "varRefreshCmd": "print(var_dic_list())"
    },
    "r": {
     "delete_cmd_postfix": ") ",
     "delete_cmd_prefix": "rm(",
     "library": "var_list.r",
     "varRefreshCmd": "cat(var_dic_list()) "
    }
   },
   "types_to_exclude": [
    "module",
    "function",
    "builtin_function_or_method",
    "instance",
    "_Feature"
   ],
   "window_display": false
  }
 },
 "nbformat": 4,
 "nbformat_minor": 2
}
